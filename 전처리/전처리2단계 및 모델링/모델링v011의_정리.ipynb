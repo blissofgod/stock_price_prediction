{
  "cells": [
    {
      "cell_type": "code",
      "execution_count": 59,
      "metadata": {
        "colab": {
          "base_uri": "https://localhost:8080/"
        },
        "id": "n5Qvn6sETNNH",
        "outputId": "41e22c90-476e-4a43-c3b7-88f7929c9ec6"
      },
      "outputs": [
        {
          "output_type": "stream",
          "name": "stdout",
          "text": [
            "Drive already mounted at /content/drive; to attempt to forcibly remount, call drive.mount(\"/content/drive\", force_remount=True).\n",
            "Drive already mounted at /content/drive; to attempt to forcibly remount, call drive.mount(\"/content/drive\", force_remount=True).\n"
          ]
        }
      ],
      "source": [
        "# prompt: 마운트\n",
        "\n",
        "from google.colab import drive\n",
        "drive.mount(\"/content/drive\")\n"
      ]
    },
    {
      "cell_type": "code",
      "execution_count": 2,
      "metadata": {
        "id": "3L-iUXp8UH4n",
        "colab": {
          "base_uri": "https://localhost:8080/"
        },
        "outputId": "5a3ee6f5-c130-4ce8-d111-f882641b5b23"
      },
      "outputs": [
        {
          "output_type": "stream",
          "name": "stdout",
          "text": [
            "Collecting finance-datareader\n",
            "  Downloading finance_datareader-0.9.93-py3-none-any.whl (88 kB)\n",
            "\u001b[?25l     \u001b[90m━━━━━━━━━━━━━━━━━━━━━━━━━━━━━━━━━━━━━━━━\u001b[0m \u001b[32m0.0/89.0 kB\u001b[0m \u001b[31m?\u001b[0m eta \u001b[36m-:--:--\u001b[0m\r\u001b[2K     \u001b[91m━━━━━━━━━━━━━━━━━━━━━━━━━━━━━━━━━━━━\u001b[0m\u001b[91m╸\u001b[0m\u001b[90m━━━\u001b[0m \u001b[32m81.9/89.0 kB\u001b[0m \u001b[31m2.5 MB/s\u001b[0m eta \u001b[36m0:00:01\u001b[0m\r\u001b[2K     \u001b[90m━━━━━━━━━━━━━━━━━━━━━━━━━━━━━━━━━━━━━━━━\u001b[0m \u001b[32m89.0/89.0 kB\u001b[0m \u001b[31m1.9 MB/s\u001b[0m eta \u001b[36m0:00:00\u001b[0m\n",
            "\u001b[?25hRequirement already satisfied: pandas>=0.19.2 in /usr/local/lib/python3.10/dist-packages (from finance-datareader) (2.0.3)\n",
            "Requirement already satisfied: requests>=2.3.0 in /usr/local/lib/python3.10/dist-packages (from finance-datareader) (2.31.0)\n",
            "Collecting requests-file (from finance-datareader)\n",
            "  Downloading requests_file-2.1.0-py2.py3-none-any.whl (4.2 kB)\n",
            "Requirement already satisfied: lxml in /usr/local/lib/python3.10/dist-packages (from finance-datareader) (4.9.4)\n",
            "Requirement already satisfied: tqdm in /usr/local/lib/python3.10/dist-packages (from finance-datareader) (4.66.4)\n",
            "Requirement already satisfied: python-dateutil>=2.8.2 in /usr/local/lib/python3.10/dist-packages (from pandas>=0.19.2->finance-datareader) (2.8.2)\n",
            "Requirement already satisfied: pytz>=2020.1 in /usr/local/lib/python3.10/dist-packages (from pandas>=0.19.2->finance-datareader) (2023.4)\n",
            "Requirement already satisfied: tzdata>=2022.1 in /usr/local/lib/python3.10/dist-packages (from pandas>=0.19.2->finance-datareader) (2024.1)\n",
            "Requirement already satisfied: numpy>=1.21.0 in /usr/local/lib/python3.10/dist-packages (from pandas>=0.19.2->finance-datareader) (1.25.2)\n",
            "Requirement already satisfied: charset-normalizer<4,>=2 in /usr/local/lib/python3.10/dist-packages (from requests>=2.3.0->finance-datareader) (3.3.2)\n",
            "Requirement already satisfied: idna<4,>=2.5 in /usr/local/lib/python3.10/dist-packages (from requests>=2.3.0->finance-datareader) (3.7)\n",
            "Requirement already satisfied: urllib3<3,>=1.21.1 in /usr/local/lib/python3.10/dist-packages (from requests>=2.3.0->finance-datareader) (2.0.7)\n",
            "Requirement already satisfied: certifi>=2017.4.17 in /usr/local/lib/python3.10/dist-packages (from requests>=2.3.0->finance-datareader) (2024.7.4)\n",
            "Requirement already satisfied: six>=1.5 in /usr/local/lib/python3.10/dist-packages (from python-dateutil>=2.8.2->pandas>=0.19.2->finance-datareader) (1.16.0)\n",
            "Installing collected packages: requests-file, finance-datareader\n",
            "Successfully installed finance-datareader-0.9.93 requests-file-2.1.0\n"
          ]
        }
      ],
      "source": [
        "!pip install finance-datareader"
      ]
    },
    {
      "cell_type": "markdown",
      "source": [
        "#라이브러리 임포트"
      ],
      "metadata": {
        "id": "t5JwdKRnHmHG"
      }
    },
    {
      "cell_type": "code",
      "source": [
        "import datetime\n",
        "import nltk\n",
        "import pandas as pd\n",
        "import numpy as np\n",
        "##import gensim\n",
        "from gensim.models import Word2Vec\n",
        "from nltk.tokenize import word_tokenize\n",
        "#주가데이터 가져오기\n",
        "import FinanceDataReader as fdr\n",
        "import yfinance as yf\n",
        "\n",
        "#모델 라이브러리\n",
        "from sklearn.ensemble import RandomForestClassifier\n",
        "from sklearn.neighbors import KNeighborsClassifier\n",
        "from sklearn.linear_model import LogisticRegression\n",
        "from sklearn.naive_bayes import GaussianNB\n",
        "from sklearn.ensemble import GradientBoostingClassifier\n",
        "from sklearn.linear_model import LogisticRegression\n",
        "from sklearn.naive_bayes import GaussianNB\n",
        "from sklearn.tree import DecisionTreeClassifier\n",
        "from sklearn.ensemble import BaggingClassifier\n",
        "import xgboost as xgb\n",
        "from sklearn.svm import SVC\n",
        "\n",
        "#모델저장 라이브러리\n",
        "import pickle\n",
        "import os"
      ],
      "metadata": {
        "id": "dfwvLEppHo8f"
      },
      "execution_count": 3,
      "outputs": []
    },
    {
      "cell_type": "code",
      "execution_count": 4,
      "metadata": {
        "id": "XvBVYnvP8OUV"
      },
      "outputs": [],
      "source": [
        "df = pd.read_excel('/content/drive/MyDrive/kdt/team_por/전처리_v2/booldf_ff.xlsx')"
      ]
    },
    {
      "cell_type": "code",
      "source": [
        "#df = df.drop(columns=['head_label_count', 'Text_label_count'])"
      ],
      "metadata": {
        "id": "HqCydwF8Liei"
      },
      "execution_count": 5,
      "outputs": []
    },
    {
      "cell_type": "code",
      "source": [
        "df.shape"
      ],
      "metadata": {
        "colab": {
          "base_uri": "https://localhost:8080/"
        },
        "id": "7qbPgYMBK6PY",
        "outputId": "cb1e6daf-ad9c-42e5-8098-a65438327d81"
      },
      "execution_count": 6,
      "outputs": [
        {
          "output_type": "execute_result",
          "data": {
            "text/plain": [
              "(16676, 23)"
            ]
          },
          "metadata": {},
          "execution_count": 6
        }
      ]
    },
    {
      "cell_type": "code",
      "source": [
        "df.columns"
      ],
      "metadata": {
        "colab": {
          "base_uri": "https://localhost:8080/"
        },
        "id": "Hm9CWqGyUA71",
        "outputId": "52bd1bb1-84a5-4d5a-fbda-b90447003b32"
      },
      "execution_count": 7,
      "outputs": [
        {
          "output_type": "execute_result",
          "data": {
            "text/plain": [
              "Index(['head', 'Date', 'Text', 'type', 'src', 'Open', 'High', 'Low', 'Close',\n",
              "       'Adj Close', 'Volume', 'SOXL_Open', 'SOXL_High', 'SOXL_Low',\n",
              "       'SOXL_Close', 'SOXL_Adj Close', 'SOXL_Volume', 'head_wordcount',\n",
              "       'Text_wordcount', 'head_label', 'Text_label', 'head_label_count',\n",
              "       'Text_label_count'],\n",
              "      dtype='object')"
            ]
          },
          "metadata": {},
          "execution_count": 7
        }
      ]
    },
    {
      "cell_type": "code",
      "source": [
        "df.info()"
      ],
      "metadata": {
        "colab": {
          "base_uri": "https://localhost:8080/"
        },
        "id": "g-KfxSibH5MK",
        "outputId": "07c2a15d-a300-4d4f-f729-98b3a815f7f9"
      },
      "execution_count": 8,
      "outputs": [
        {
          "output_type": "stream",
          "name": "stdout",
          "text": [
            "<class 'pandas.core.frame.DataFrame'>\n",
            "RangeIndex: 16676 entries, 0 to 16675\n",
            "Data columns (total 23 columns):\n",
            " #   Column            Non-Null Count  Dtype  \n",
            "---  ------            --------------  -----  \n",
            " 0   head              16672 non-null  object \n",
            " 1   Date              16676 non-null  object \n",
            " 2   Text              16642 non-null  object \n",
            " 3   type              16676 non-null  object \n",
            " 4   src               16676 non-null  object \n",
            " 5   Open              16676 non-null  float64\n",
            " 6   High              16676 non-null  float64\n",
            " 7   Low               16676 non-null  float64\n",
            " 8   Close             16676 non-null  float64\n",
            " 9   Adj Close         16676 non-null  float64\n",
            " 10  Volume            16676 non-null  int64  \n",
            " 11  SOXL_Open         16676 non-null  float64\n",
            " 12  SOXL_High         16676 non-null  float64\n",
            " 13  SOXL_Low          16676 non-null  float64\n",
            " 14  SOXL_Close        16676 non-null  float64\n",
            " 15  SOXL_Adj Close    16676 non-null  float64\n",
            " 16  SOXL_Volume       16676 non-null  int64  \n",
            " 17  head_wordcount    16676 non-null  int64  \n",
            " 18  Text_wordcount    16676 non-null  int64  \n",
            " 19  head_label        16676 non-null  int64  \n",
            " 20  Text_label        16676 non-null  int64  \n",
            " 21  head_label_count  16676 non-null  int64  \n",
            " 22  Text_label_count  16676 non-null  int64  \n",
            "dtypes: float64(10), int64(8), object(5)\n",
            "memory usage: 2.9+ MB\n"
          ]
        }
      ]
    },
    {
      "cell_type": "code",
      "source": [
        "df=df.dropna()"
      ],
      "metadata": {
        "id": "bGeyGBtaLMrd"
      },
      "execution_count": 9,
      "outputs": []
    },
    {
      "cell_type": "code",
      "source": [
        "df.isnull().sum()"
      ],
      "metadata": {
        "colab": {
          "base_uri": "https://localhost:8080/"
        },
        "id": "qjrA1Py8Ltxa",
        "outputId": "059a22d6-9a07-48c9-dbe8-1e2c57528bb4"
      },
      "execution_count": 10,
      "outputs": [
        {
          "output_type": "execute_result",
          "data": {
            "text/plain": [
              "head                0\n",
              "Date                0\n",
              "Text                0\n",
              "type                0\n",
              "src                 0\n",
              "Open                0\n",
              "High                0\n",
              "Low                 0\n",
              "Close               0\n",
              "Adj Close           0\n",
              "Volume              0\n",
              "SOXL_Open           0\n",
              "SOXL_High           0\n",
              "SOXL_Low            0\n",
              "SOXL_Close          0\n",
              "SOXL_Adj Close      0\n",
              "SOXL_Volume         0\n",
              "head_wordcount      0\n",
              "Text_wordcount      0\n",
              "head_label          0\n",
              "Text_label          0\n",
              "head_label_count    0\n",
              "Text_label_count    0\n",
              "dtype: int64"
            ]
          },
          "metadata": {},
          "execution_count": 10
        }
      ]
    },
    {
      "cell_type": "markdown",
      "source": [
        "# type과 src 고윳값 출력"
      ],
      "metadata": {
        "id": "YagSbC1OV-FF"
      }
    },
    {
      "cell_type": "code",
      "execution_count": 11,
      "metadata": {
        "id": "_rSex4QXIXjf"
      },
      "outputs": [],
      "source": [
        "df['type'] = df['type'].str.replace('$', '', regex=False)"
      ]
    },
    {
      "cell_type": "code",
      "execution_count": 12,
      "metadata": {
        "colab": {
          "base_uri": "https://localhost:8080/"
        },
        "id": "5K2ILQqTItxM",
        "outputId": "c42f8657-9f8f-422c-ff5e-44ca1fca20fc"
      },
      "outputs": [
        {
          "output_type": "execute_result",
          "data": {
            "text/plain": [
              "array(['TSMC', 'ON', 'ASML', 'NVDA', 'AVGO', 'INTC', 'ENTG', 'NXPI', 'MU',\n",
              "       'TXN', 'MCHP', 'MPWR', 'MRVL', 'QCOM', 'AMD', 'ACLS', 'ASX',\n",
              "       'KLAC', 'LSCC', 'MKSI', 'QRVO', 'RMBS', 'STM', 'SWKS', 'UMC',\n",
              "       'WOLF', 'ADI', 'AMAT', 'LRCX', 'TER'], dtype=object)"
            ]
          },
          "metadata": {},
          "execution_count": 12
        }
      ],
      "source": [
        "df.type.unique()"
      ]
    },
    {
      "cell_type": "code",
      "source": [
        "df.src.unique()"
      ],
      "metadata": {
        "colab": {
          "base_uri": "https://localhost:8080/"
        },
        "id": "l40sEegiIAQK",
        "outputId": "33d3494a-a7cf-4d35-aa08-b62afe1d69e3"
      },
      "execution_count": 13,
      "outputs": [
        {
          "output_type": "execute_result",
          "data": {
            "text/plain": [
              "array(['reddit', 'investing', 'naver'], dtype=object)"
            ]
          },
          "metadata": {},
          "execution_count": 13
        }
      ]
    },
    {
      "cell_type": "code",
      "execution_count": 14,
      "metadata": {
        "id": "xLIHrYoesSnM"
      },
      "outputs": [],
      "source": [
        "df = df[df['type'] != \"TER\"]\n",
        "df = df[df['src'] != \"naver\"]"
      ]
    },
    {
      "cell_type": "markdown",
      "source": [
        "#주가데아턱 가져오기"
      ],
      "metadata": {
        "id": "xSE6hUmu287O"
      }
    },
    {
      "cell_type": "code",
      "execution_count": 15,
      "metadata": {
        "id": "rc6uoz3S9RyV"
      },
      "outputs": [],
      "source": [
        "import FinanceDataReader as fdr\n",
        "\n",
        "# SOXL 데이터 불러오기\n",
        "df_soxl = fdr.DataReader('SOXL','2023-05-19')"
      ]
    },
    {
      "cell_type": "code",
      "execution_count": 16,
      "metadata": {
        "id": "u6Nt9GUU9qc1"
      },
      "outputs": [],
      "source": [
        "df_soxl['Adj Close Change %'] = df_soxl['Adj Close'].pct_change() * 100"
      ]
    },
    {
      "cell_type": "code",
      "execution_count": 17,
      "metadata": {
        "id": "g8ZyZJpg-Ago"
      },
      "outputs": [],
      "source": [
        "df_soxl['Next Adj Close'] = df_soxl['Adj Close'].shift(-1)\n",
        "df_soxl['Change Rate'] = ((df_soxl['Next Adj Close'] - df_soxl['Adj Close']) / df_soxl['Adj Close']) * 100\n"
      ]
    },
    {
      "cell_type": "markdown",
      "source": [
        "#종가 변동량을 통한 정답값 만들기"
      ],
      "metadata": {
        "id": "8F3OBH2C3Fca"
      }
    },
    {
      "cell_type": "code",
      "execution_count": 18,
      "metadata": {
        "id": "w3FVCxi4-BIR"
      },
      "outputs": [],
      "source": [
        "def trading_signal(value):\n",
        "    if value > 8:\n",
        "        return 4\n",
        "    elif value > 2:\n",
        "        return 3\n",
        "    elif value >= -2 and value <= 2:\n",
        "        return 2\n",
        "    elif value >-8:\n",
        "        return 1\n",
        "    else:\n",
        "        return 0\n",
        "\n",
        "# 'Adj Close Change %' 열에 함수 적용하여 신호 열 생성\n",
        "df_soxl['Signal'] = df_soxl['Adj Close Change %'].apply(trading_signal)"
      ]
    },
    {
      "cell_type": "markdown",
      "source": [
        "#블리쉬 변수 만들기"
      ],
      "metadata": {
        "id": "5yY1lCuo3ZIZ"
      }
    },
    {
      "cell_type": "code",
      "source": [
        "\"\"\"\n",
        "# trading_signal 함수 정의\n",
        "def trading_signal(value):\n",
        "    if value > 8:\n",
        "        return 4\n",
        "    elif value > 2:\n",
        "        return 3\n",
        "    elif value >= -2 and value <= 2:\n",
        "        return 2\n",
        "    elif value > -8:\n",
        "        return 1\n",
        "    else:\n",
        "        return 0\n",
        "\n",
        "# calculate_bullish 함수 정의\n",
        "def calculate_bullish(M_buy, M_sell):\n",
        "    bullish_index = np.log((1 + M_buy) / (1 + M_sell))\n",
        "    return bullish_index\n",
        "\n",
        "# classify_bullish_index 함수 정의\n",
        "def classify_bullish_index(bullish_index):\n",
        "    if bullish_index > 1.5:\n",
        "        return 4\n",
        "    elif bullish_index > 0.5:\n",
        "        return 3\n",
        "    elif bullish_index > -0.5:\n",
        "        return 2\n",
        "    elif bullish_index > -1.5:\n",
        "        return 1\n",
        "    else:\n",
        "        return 0\n",
        "\n",
        "# 날짜 변환\n",
        "df['Date'] = pd.to_datetime(df['Date'])\n",
        "\n",
        "# 기준 날짜 설정\n",
        "cutoff_date = datetime.datetime(2024, 1, 19)\n",
        "\n",
        "df['signal'] = np.nan\n",
        "\n",
        "\n",
        "\n",
        "# 기준 날짜 이후에는 calculate_bullish 및 classify_bullish_index 함수 사용\n",
        "for idx, row in df.iterrows():\n",
        "    if row['Date'] > cutoff_date:\n",
        "        # 매수 및 매도 신호의 수 계산\n",
        "        M_buy = (df[(df['Date'] == row['Date'])]['head_label'] == 1).sum() + (df[(df['Date'] == row['Date'])]['Text_label'] == 1).sum()\n",
        "        M_sell = (df[(df['Date'] == row['Date'])]['head_label'] == -1).sum() + (df[(df['Date'] == row['Date'])]['Text_label'] == -1).sum()\n",
        "\n",
        "        bullish_index = calculate_bullish(M_buy, M_sell)\n",
        "        df.at[idx, 'signal'] = classify_bullish_index(bullish_index)\n",
        "\n",
        "\"\"\"\n"
      ],
      "metadata": {
        "id": "QcxvWQR1I0Ip",
        "colab": {
          "base_uri": "https://localhost:8080/",
          "height": 109
        },
        "outputId": "a8089fd5-1464-4ec9-c3cb-f8c03546b057"
      },
      "execution_count": 19,
      "outputs": [
        {
          "output_type": "execute_result",
          "data": {
            "text/plain": [
              "\"\\n# trading_signal 함수 정의\\ndef trading_signal(value):\\n    if value > 8:\\n        return 4\\n    elif value > 2:\\n        return 3\\n    elif value >= -2 and value <= 2:\\n        return 2\\n    elif value > -8:\\n        return 1\\n    else:\\n        return 0\\n\\n# calculate_bullish 함수 정의\\ndef calculate_bullish(M_buy, M_sell):\\n    bullish_index = np.log((1 + M_buy) / (1 + M_sell))\\n    return bullish_index\\n\\n# classify_bullish_index 함수 정의\\ndef classify_bullish_index(bullish_index):\\n    if bullish_index > 1.5:\\n        return 4\\n    elif bullish_index > 0.5:\\n        return 3\\n    elif bullish_index > -0.5:\\n        return 2\\n    elif bullish_index > -1.5:\\n        return 1\\n    else:\\n        return 0\\n\\n# 날짜 변환\\ndf['Date'] = pd.to_datetime(df['Date'])\\n\\n# 기준 날짜 설정\\ncutoff_date = datetime.datetime(2024, 1, 19)\\n\\ndf['signal'] = np.nan\\n\\n\\n\\n# 기준 날짜 이후에는 calculate_bullish 및 classify_bullish_index 함수 사용\\nfor idx, row in df.iterrows():\\n    if row['Date'] > cutoff_date:\\n        # 매수 및 매도 신호의 수 계산\\n        M_buy = (df[(df['Date'] == row['Date'])]['head_label'] == 1).sum() + (df[(df['Date'] == row['Date'])]['Text_label'] == 1).sum()\\n        M_sell = (df[(df['Date'] == row['Date'])]['head_label'] == -1).sum() + (df[(df['Date'] == row['Date'])]['Text_label'] == -1).sum()\\n\\n        bullish_index = calculate_bullish(M_buy, M_sell)\\n        df.at[idx, 'signal'] = classify_bullish_index(bullish_index)\\n\\n\""
            ],
            "application/vnd.google.colaboratory.intrinsic+json": {
              "type": "string"
            }
          },
          "metadata": {},
          "execution_count": 19
        }
      ]
    },
    {
      "cell_type": "code",
      "execution_count": 20,
      "metadata": {
        "colab": {
          "base_uri": "https://localhost:8080/"
        },
        "id": "tOs2Z0mW-MbF",
        "outputId": "3e92e40c-03b9-482e-b07c-9d7c997937b9"
      },
      "outputs": [
        {
          "output_type": "execute_result",
          "data": {
            "text/plain": [
              "array([0, 2, 1, 4, 3])"
            ]
          },
          "metadata": {},
          "execution_count": 20
        }
      ],
      "source": [
        "df_soxl.Signal.unique()"
      ]
    },
    {
      "cell_type": "code",
      "execution_count": 21,
      "metadata": {
        "id": "dfPMVw5fEiIq"
      },
      "outputs": [],
      "source": [
        "df_soxl.rename(columns=lambda x: 'soxl_' + x if x != 'Date' else x, inplace=True)"
      ]
    },
    {
      "cell_type": "code",
      "source": [
        "\n",
        "df_soxl['soxl_next_Signal'] = df_soxl['soxl_Signal'].shift(1)"
      ],
      "metadata": {
        "id": "fjOxl6hIRwEq"
      },
      "execution_count": 22,
      "outputs": []
    },
    {
      "cell_type": "code",
      "execution_count": 23,
      "metadata": {
        "colab": {
          "base_uri": "https://localhost:8080/",
          "height": 238
        },
        "id": "-VfysssXAHcR",
        "outputId": "66abe8ee-a07c-40ba-ce3d-bfffbe4f9b21"
      },
      "outputs": [
        {
          "output_type": "execute_result",
          "data": {
            "text/plain": [
              "            soxl_Open  soxl_High   soxl_Low  soxl_Close  soxl_Adj Close  \\\n",
              "Date                                                                      \n",
              "2023-05-19  17.590000  17.639999  17.059999   17.389999       17.232965   \n",
              "2023-05-22  16.920000  17.719999  16.889999   17.530001       17.371702   \n",
              "2023-05-23  17.200001  17.549999  16.790001   16.920000       16.767210   \n",
              "2023-05-24  15.890000  16.230000  15.490000   16.030001       15.885247   \n",
              "2023-05-25  18.160000  19.389999  17.629999   19.150000       18.977072   \n",
              "\n",
              "            soxl_Volume  soxl_Adj Close Change %  soxl_Next Adj Close  \\\n",
              "Date                                                                    \n",
              "2023-05-19     49381700                      NaN            17.371702   \n",
              "2023-05-22     43944400                 0.805067            16.767210   \n",
              "2023-05-23     41287200                -3.479751            15.885247   \n",
              "2023-05-24     87475800                -5.260046            18.977072   \n",
              "2023-05-25    124768700                19.463500            22.673389   \n",
              "\n",
              "            soxl_Change Rate  soxl_Signal  soxl_next_Signal  \n",
              "Date                                                         \n",
              "2023-05-19          0.805067            0               NaN  \n",
              "2023-05-22         -3.479751            2               0.0  \n",
              "2023-05-23         -5.260046            1               2.0  \n",
              "2023-05-24         19.463500            1               1.0  \n",
              "2023-05-25         19.477805            4               1.0  "
            ],
            "text/html": [
              "\n",
              "  <div id=\"df-fab5fc09-feb1-4526-8132-5a44fe82aa86\" class=\"colab-df-container\">\n",
              "    <div>\n",
              "<style scoped>\n",
              "    .dataframe tbody tr th:only-of-type {\n",
              "        vertical-align: middle;\n",
              "    }\n",
              "\n",
              "    .dataframe tbody tr th {\n",
              "        vertical-align: top;\n",
              "    }\n",
              "\n",
              "    .dataframe thead th {\n",
              "        text-align: right;\n",
              "    }\n",
              "</style>\n",
              "<table border=\"1\" class=\"dataframe\">\n",
              "  <thead>\n",
              "    <tr style=\"text-align: right;\">\n",
              "      <th></th>\n",
              "      <th>soxl_Open</th>\n",
              "      <th>soxl_High</th>\n",
              "      <th>soxl_Low</th>\n",
              "      <th>soxl_Close</th>\n",
              "      <th>soxl_Adj Close</th>\n",
              "      <th>soxl_Volume</th>\n",
              "      <th>soxl_Adj Close Change %</th>\n",
              "      <th>soxl_Next Adj Close</th>\n",
              "      <th>soxl_Change Rate</th>\n",
              "      <th>soxl_Signal</th>\n",
              "      <th>soxl_next_Signal</th>\n",
              "    </tr>\n",
              "    <tr>\n",
              "      <th>Date</th>\n",
              "      <th></th>\n",
              "      <th></th>\n",
              "      <th></th>\n",
              "      <th></th>\n",
              "      <th></th>\n",
              "      <th></th>\n",
              "      <th></th>\n",
              "      <th></th>\n",
              "      <th></th>\n",
              "      <th></th>\n",
              "      <th></th>\n",
              "    </tr>\n",
              "  </thead>\n",
              "  <tbody>\n",
              "    <tr>\n",
              "      <th>2023-05-19</th>\n",
              "      <td>17.590000</td>\n",
              "      <td>17.639999</td>\n",
              "      <td>17.059999</td>\n",
              "      <td>17.389999</td>\n",
              "      <td>17.232965</td>\n",
              "      <td>49381700</td>\n",
              "      <td>NaN</td>\n",
              "      <td>17.371702</td>\n",
              "      <td>0.805067</td>\n",
              "      <td>0</td>\n",
              "      <td>NaN</td>\n",
              "    </tr>\n",
              "    <tr>\n",
              "      <th>2023-05-22</th>\n",
              "      <td>16.920000</td>\n",
              "      <td>17.719999</td>\n",
              "      <td>16.889999</td>\n",
              "      <td>17.530001</td>\n",
              "      <td>17.371702</td>\n",
              "      <td>43944400</td>\n",
              "      <td>0.805067</td>\n",
              "      <td>16.767210</td>\n",
              "      <td>-3.479751</td>\n",
              "      <td>2</td>\n",
              "      <td>0.0</td>\n",
              "    </tr>\n",
              "    <tr>\n",
              "      <th>2023-05-23</th>\n",
              "      <td>17.200001</td>\n",
              "      <td>17.549999</td>\n",
              "      <td>16.790001</td>\n",
              "      <td>16.920000</td>\n",
              "      <td>16.767210</td>\n",
              "      <td>41287200</td>\n",
              "      <td>-3.479751</td>\n",
              "      <td>15.885247</td>\n",
              "      <td>-5.260046</td>\n",
              "      <td>1</td>\n",
              "      <td>2.0</td>\n",
              "    </tr>\n",
              "    <tr>\n",
              "      <th>2023-05-24</th>\n",
              "      <td>15.890000</td>\n",
              "      <td>16.230000</td>\n",
              "      <td>15.490000</td>\n",
              "      <td>16.030001</td>\n",
              "      <td>15.885247</td>\n",
              "      <td>87475800</td>\n",
              "      <td>-5.260046</td>\n",
              "      <td>18.977072</td>\n",
              "      <td>19.463500</td>\n",
              "      <td>1</td>\n",
              "      <td>1.0</td>\n",
              "    </tr>\n",
              "    <tr>\n",
              "      <th>2023-05-25</th>\n",
              "      <td>18.160000</td>\n",
              "      <td>19.389999</td>\n",
              "      <td>17.629999</td>\n",
              "      <td>19.150000</td>\n",
              "      <td>18.977072</td>\n",
              "      <td>124768700</td>\n",
              "      <td>19.463500</td>\n",
              "      <td>22.673389</td>\n",
              "      <td>19.477805</td>\n",
              "      <td>4</td>\n",
              "      <td>1.0</td>\n",
              "    </tr>\n",
              "  </tbody>\n",
              "</table>\n",
              "</div>\n",
              "    <div class=\"colab-df-buttons\">\n",
              "\n",
              "  <div class=\"colab-df-container\">\n",
              "    <button class=\"colab-df-convert\" onclick=\"convertToInteractive('df-fab5fc09-feb1-4526-8132-5a44fe82aa86')\"\n",
              "            title=\"Convert this dataframe to an interactive table.\"\n",
              "            style=\"display:none;\">\n",
              "\n",
              "  <svg xmlns=\"http://www.w3.org/2000/svg\" height=\"24px\" viewBox=\"0 -960 960 960\">\n",
              "    <path d=\"M120-120v-720h720v720H120Zm60-500h600v-160H180v160Zm220 220h160v-160H400v160Zm0 220h160v-160H400v160ZM180-400h160v-160H180v160Zm440 0h160v-160H620v160ZM180-180h160v-160H180v160Zm440 0h160v-160H620v160Z\"/>\n",
              "  </svg>\n",
              "    </button>\n",
              "\n",
              "  <style>\n",
              "    .colab-df-container {\n",
              "      display:flex;\n",
              "      gap: 12px;\n",
              "    }\n",
              "\n",
              "    .colab-df-convert {\n",
              "      background-color: #E8F0FE;\n",
              "      border: none;\n",
              "      border-radius: 50%;\n",
              "      cursor: pointer;\n",
              "      display: none;\n",
              "      fill: #1967D2;\n",
              "      height: 32px;\n",
              "      padding: 0 0 0 0;\n",
              "      width: 32px;\n",
              "    }\n",
              "\n",
              "    .colab-df-convert:hover {\n",
              "      background-color: #E2EBFA;\n",
              "      box-shadow: 0px 1px 2px rgba(60, 64, 67, 0.3), 0px 1px 3px 1px rgba(60, 64, 67, 0.15);\n",
              "      fill: #174EA6;\n",
              "    }\n",
              "\n",
              "    .colab-df-buttons div {\n",
              "      margin-bottom: 4px;\n",
              "    }\n",
              "\n",
              "    [theme=dark] .colab-df-convert {\n",
              "      background-color: #3B4455;\n",
              "      fill: #D2E3FC;\n",
              "    }\n",
              "\n",
              "    [theme=dark] .colab-df-convert:hover {\n",
              "      background-color: #434B5C;\n",
              "      box-shadow: 0px 1px 3px 1px rgba(0, 0, 0, 0.15);\n",
              "      filter: drop-shadow(0px 1px 2px rgba(0, 0, 0, 0.3));\n",
              "      fill: #FFFFFF;\n",
              "    }\n",
              "  </style>\n",
              "\n",
              "    <script>\n",
              "      const buttonEl =\n",
              "        document.querySelector('#df-fab5fc09-feb1-4526-8132-5a44fe82aa86 button.colab-df-convert');\n",
              "      buttonEl.style.display =\n",
              "        google.colab.kernel.accessAllowed ? 'block' : 'none';\n",
              "\n",
              "      async function convertToInteractive(key) {\n",
              "        const element = document.querySelector('#df-fab5fc09-feb1-4526-8132-5a44fe82aa86');\n",
              "        const dataTable =\n",
              "          await google.colab.kernel.invokeFunction('convertToInteractive',\n",
              "                                                    [key], {});\n",
              "        if (!dataTable) return;\n",
              "\n",
              "        const docLinkHtml = 'Like what you see? Visit the ' +\n",
              "          '<a target=\"_blank\" href=https://colab.research.google.com/notebooks/data_table.ipynb>data table notebook</a>'\n",
              "          + ' to learn more about interactive tables.';\n",
              "        element.innerHTML = '';\n",
              "        dataTable['output_type'] = 'display_data';\n",
              "        await google.colab.output.renderOutput(dataTable, element);\n",
              "        const docLink = document.createElement('div');\n",
              "        docLink.innerHTML = docLinkHtml;\n",
              "        element.appendChild(docLink);\n",
              "      }\n",
              "    </script>\n",
              "  </div>\n",
              "\n",
              "\n",
              "<div id=\"df-35f47832-af8c-4532-bb94-bd4a725bd633\">\n",
              "  <button class=\"colab-df-quickchart\" onclick=\"quickchart('df-35f47832-af8c-4532-bb94-bd4a725bd633')\"\n",
              "            title=\"Suggest charts\"\n",
              "            style=\"display:none;\">\n",
              "\n",
              "<svg xmlns=\"http://www.w3.org/2000/svg\" height=\"24px\"viewBox=\"0 0 24 24\"\n",
              "     width=\"24px\">\n",
              "    <g>\n",
              "        <path d=\"M19 3H5c-1.1 0-2 .9-2 2v14c0 1.1.9 2 2 2h14c1.1 0 2-.9 2-2V5c0-1.1-.9-2-2-2zM9 17H7v-7h2v7zm4 0h-2V7h2v10zm4 0h-2v-4h2v4z\"/>\n",
              "    </g>\n",
              "</svg>\n",
              "  </button>\n",
              "\n",
              "<style>\n",
              "  .colab-df-quickchart {\n",
              "      --bg-color: #E8F0FE;\n",
              "      --fill-color: #1967D2;\n",
              "      --hover-bg-color: #E2EBFA;\n",
              "      --hover-fill-color: #174EA6;\n",
              "      --disabled-fill-color: #AAA;\n",
              "      --disabled-bg-color: #DDD;\n",
              "  }\n",
              "\n",
              "  [theme=dark] .colab-df-quickchart {\n",
              "      --bg-color: #3B4455;\n",
              "      --fill-color: #D2E3FC;\n",
              "      --hover-bg-color: #434B5C;\n",
              "      --hover-fill-color: #FFFFFF;\n",
              "      --disabled-bg-color: #3B4455;\n",
              "      --disabled-fill-color: #666;\n",
              "  }\n",
              "\n",
              "  .colab-df-quickchart {\n",
              "    background-color: var(--bg-color);\n",
              "    border: none;\n",
              "    border-radius: 50%;\n",
              "    cursor: pointer;\n",
              "    display: none;\n",
              "    fill: var(--fill-color);\n",
              "    height: 32px;\n",
              "    padding: 0;\n",
              "    width: 32px;\n",
              "  }\n",
              "\n",
              "  .colab-df-quickchart:hover {\n",
              "    background-color: var(--hover-bg-color);\n",
              "    box-shadow: 0 1px 2px rgba(60, 64, 67, 0.3), 0 1px 3px 1px rgba(60, 64, 67, 0.15);\n",
              "    fill: var(--button-hover-fill-color);\n",
              "  }\n",
              "\n",
              "  .colab-df-quickchart-complete:disabled,\n",
              "  .colab-df-quickchart-complete:disabled:hover {\n",
              "    background-color: var(--disabled-bg-color);\n",
              "    fill: var(--disabled-fill-color);\n",
              "    box-shadow: none;\n",
              "  }\n",
              "\n",
              "  .colab-df-spinner {\n",
              "    border: 2px solid var(--fill-color);\n",
              "    border-color: transparent;\n",
              "    border-bottom-color: var(--fill-color);\n",
              "    animation:\n",
              "      spin 1s steps(1) infinite;\n",
              "  }\n",
              "\n",
              "  @keyframes spin {\n",
              "    0% {\n",
              "      border-color: transparent;\n",
              "      border-bottom-color: var(--fill-color);\n",
              "      border-left-color: var(--fill-color);\n",
              "    }\n",
              "    20% {\n",
              "      border-color: transparent;\n",
              "      border-left-color: var(--fill-color);\n",
              "      border-top-color: var(--fill-color);\n",
              "    }\n",
              "    30% {\n",
              "      border-color: transparent;\n",
              "      border-left-color: var(--fill-color);\n",
              "      border-top-color: var(--fill-color);\n",
              "      border-right-color: var(--fill-color);\n",
              "    }\n",
              "    40% {\n",
              "      border-color: transparent;\n",
              "      border-right-color: var(--fill-color);\n",
              "      border-top-color: var(--fill-color);\n",
              "    }\n",
              "    60% {\n",
              "      border-color: transparent;\n",
              "      border-right-color: var(--fill-color);\n",
              "    }\n",
              "    80% {\n",
              "      border-color: transparent;\n",
              "      border-right-color: var(--fill-color);\n",
              "      border-bottom-color: var(--fill-color);\n",
              "    }\n",
              "    90% {\n",
              "      border-color: transparent;\n",
              "      border-bottom-color: var(--fill-color);\n",
              "    }\n",
              "  }\n",
              "</style>\n",
              "\n",
              "  <script>\n",
              "    async function quickchart(key) {\n",
              "      const quickchartButtonEl =\n",
              "        document.querySelector('#' + key + ' button');\n",
              "      quickchartButtonEl.disabled = true;  // To prevent multiple clicks.\n",
              "      quickchartButtonEl.classList.add('colab-df-spinner');\n",
              "      try {\n",
              "        const charts = await google.colab.kernel.invokeFunction(\n",
              "            'suggestCharts', [key], {});\n",
              "      } catch (error) {\n",
              "        console.error('Error during call to suggestCharts:', error);\n",
              "      }\n",
              "      quickchartButtonEl.classList.remove('colab-df-spinner');\n",
              "      quickchartButtonEl.classList.add('colab-df-quickchart-complete');\n",
              "    }\n",
              "    (() => {\n",
              "      let quickchartButtonEl =\n",
              "        document.querySelector('#df-35f47832-af8c-4532-bb94-bd4a725bd633 button');\n",
              "      quickchartButtonEl.style.display =\n",
              "        google.colab.kernel.accessAllowed ? 'block' : 'none';\n",
              "    })();\n",
              "  </script>\n",
              "</div>\n",
              "\n",
              "    </div>\n",
              "  </div>\n"
            ],
            "application/vnd.google.colaboratory.intrinsic+json": {
              "type": "dataframe",
              "variable_name": "df_soxl",
              "summary": "{\n  \"name\": \"df_soxl\",\n  \"rows\": 293,\n  \"fields\": [\n    {\n      \"column\": \"Date\",\n      \"properties\": {\n        \"dtype\": \"date\",\n        \"min\": \"2023-05-19 00:00:00\",\n        \"max\": \"2024-07-19 00:00:00\",\n        \"num_unique_values\": 293,\n        \"samples\": [\n          \"2023-09-20 00:00:00\",\n          \"2024-06-03 00:00:00\",\n          \"2023-07-26 00:00:00\"\n        ],\n        \"semantic_type\": \"\",\n        \"description\": \"\"\n      }\n    },\n    {\n      \"column\": \"soxl_Open\",\n      \"properties\": {\n        \"dtype\": \"number\",\n        \"std\": 13.296087650883699,\n        \"min\": 14.54,\n        \"max\": 70.010002,\n        \"num_unique_values\": 283,\n        \"samples\": [\n          22.690001,\n          53.34,\n          30.559999\n        ],\n        \"semantic_type\": \"\",\n        \"description\": \"\"\n      }\n    },\n    {\n      \"column\": \"soxl_High\",\n      \"properties\": {\n        \"dtype\": \"number\",\n        \"std\": 13.634552389446712,\n        \"min\": 15.03,\n        \"max\": 70.080002,\n        \"num_unique_values\": 280,\n        \"samples\": [\n          25.85,\n          17.41,\n          50.0\n        ],\n        \"semantic_type\": \"\",\n        \"description\": \"\"\n      }\n    },\n    {\n      \"column\": \"soxl_Low\",\n      \"properties\": {\n        \"dtype\": \"number\",\n        \"std\": 12.701970357453888,\n        \"min\": 14.01,\n        \"max\": 65.010002,\n        \"num_unique_values\": 282,\n        \"samples\": [\n          17.82,\n          17.66,\n          34.580002\n        ],\n        \"semantic_type\": \"\",\n        \"description\": \"\"\n      }\n    },\n    {\n      \"column\": \"soxl_Close\",\n      \"properties\": {\n        \"dtype\": \"number\",\n        \"std\": 13.173109655585705,\n        \"min\": 14.53,\n        \"max\": 68.589996,\n        \"num_unique_values\": 281,\n        \"samples\": [\n          24.32,\n          29.190001,\n          50.0\n        ],\n        \"semantic_type\": \"\",\n        \"description\": \"\"\n      }\n    },\n    {\n      \"column\": \"soxl_Adj Close\",\n      \"properties\": {\n        \"dtype\": \"number\",\n        \"std\": 13.190075283638674,\n        \"min\": 14.444941,\n        \"max\": 68.589996,\n        \"num_unique_values\": 288,\n        \"samples\": [\n          24.872046,\n          28.32708,\n          48.453964\n        ],\n        \"semantic_type\": \"\",\n        \"description\": \"\"\n      }\n    },\n    {\n      \"column\": \"soxl_Volume\",\n      \"properties\": {\n        \"dtype\": \"number\",\n        \"std\": 18448364,\n        \"min\": 21933500,\n        \"max\": 128374500,\n        \"num_unique_values\": 293,\n        \"samples\": [\n          58695600,\n          53127300,\n          54225500\n        ],\n        \"semantic_type\": \"\",\n        \"description\": \"\"\n      }\n    },\n    {\n      \"column\": \"soxl_Adj Close Change %\",\n      \"properties\": {\n        \"dtype\": \"number\",\n        \"std\": 5.38605656362619,\n        \"min\": -21.056666720214402,\n        \"max\": 19.47780458439532,\n        \"num_unique_values\": 290,\n        \"samples\": [\n          -5.735932379470143,\n          -2.8199990950664833,\n          5.586589056646174\n        ],\n        \"semantic_type\": \"\",\n        \"description\": \"\"\n      }\n    },\n    {\n      \"column\": \"soxl_Next Adj Close\",\n      \"properties\": {\n        \"dtype\": \"number\",\n        \"std\": 13.181886011249054,\n        \"min\": 14.444941,\n        \"max\": 68.589996,\n        \"num_unique_values\": 287,\n        \"samples\": [\n          20.780636,\n          48.453964,\n          30.569988\n        ],\n        \"semantic_type\": \"\",\n        \"description\": \"\"\n      }\n    },\n    {\n      \"column\": \"soxl_Change Rate\",\n      \"properties\": {\n        \"dtype\": \"number\",\n        \"std\": 5.38605656362619,\n        \"min\": -21.0566667202144,\n        \"max\": 19.47780458439532,\n        \"num_unique_values\": 290,\n        \"samples\": [\n          -5.735932379470147,\n          -2.819999095066481,\n          5.586589056646167\n        ],\n        \"semantic_type\": \"\",\n        \"description\": \"\"\n      }\n    },\n    {\n      \"column\": \"soxl_Signal\",\n      \"properties\": {\n        \"dtype\": \"number\",\n        \"std\": 1,\n        \"min\": 0,\n        \"max\": 4,\n        \"num_unique_values\": 5,\n        \"samples\": [\n          2,\n          3,\n          1\n        ],\n        \"semantic_type\": \"\",\n        \"description\": \"\"\n      }\n    },\n    {\n      \"column\": \"soxl_next_Signal\",\n      \"properties\": {\n        \"dtype\": \"number\",\n        \"std\": 1.0307778335536946,\n        \"min\": 0.0,\n        \"max\": 4.0,\n        \"num_unique_values\": 5,\n        \"samples\": [\n          2.0,\n          3.0,\n          1.0\n        ],\n        \"semantic_type\": \"\",\n        \"description\": \"\"\n      }\n    }\n  ]\n}"
            }
          },
          "metadata": {},
          "execution_count": 23
        }
      ],
      "source": [
        "df_soxl.head()"
      ]
    },
    {
      "cell_type": "markdown",
      "source": [
        "#df와 df_soxl을 Date기준으로 함치기"
      ],
      "metadata": {
        "id": "nc8DuAXoM3Pe"
      }
    },
    {
      "cell_type": "code",
      "execution_count": 24,
      "metadata": {
        "id": "9-RurG4xDSeS"
      },
      "outputs": [],
      "source": [
        "# 겹치는 컬럼 제거\n",
        "df_soxl.drop(columns=['soxl_Adj Close Change %','soxl_Next Adj Close','soxl_Change Rate'], inplace=True)"
      ]
    },
    {
      "cell_type": "code",
      "execution_count": 25,
      "metadata": {
        "id": "MCGjpdG2BwJe"
      },
      "outputs": [],
      "source": [
        "df['Date'] = pd.to_datetime(df['Date'])"
      ]
    },
    {
      "cell_type": "code",
      "execution_count": 26,
      "metadata": {
        "colab": {
          "base_uri": "https://localhost:8080/",
          "height": 1000
        },
        "id": "VdUHI1oTDdaw",
        "outputId": "7234c43a-f9f8-46ce-9f98-54a081bbced2"
      },
      "outputs": [
        {
          "output_type": "execute_result",
          "data": {
            "text/plain": [
              "                                                    head       Date  \\\n",
              "0                                  TSMC soon to the moon 2024-04-02   \n",
              "1                                  TSMC soon to the moon 2024-04-02   \n",
              "2                                  TSMC soon to the moon 2024-04-02   \n",
              "3                                  TSMC soon to the moon 2024-04-02   \n",
              "4                                  TSMC soon to the moon 2024-04-02   \n",
              "...                                                  ...        ...   \n",
              "15619  AMDnew CPU hits 132fps in Fortnite without a g... 2024-01-29   \n",
              "15620  AMDnew CPU hits 132fps in Fortnite without a g... 2024-01-29   \n",
              "15621  AMDnew CPU hits 132fps in Fortnite without a g... 2024-01-29   \n",
              "15622  AMDnew CPU hits 132fps in Fortnite without a g... 2024-01-29   \n",
              "15623  AMDnew CPU hits 132fps in Fortnite without a g... 2024-01-29   \n",
              "\n",
              "                                                    Text  type     src  \\\n",
              "0      20% oh I remember the optimize last month....b...  TSMC  reddit   \n",
              "1      Right there with you man....that 03/08 on TSMC...  TSMC  reddit   \n",
              "2                                        We ride at dawn  TSMC  reddit   \n",
              "3      Not a prediction, but $150 could be in the sta...  TSMC  reddit   \n",
              "4      I have $197 as my next target in the big picture.  TSMC  reddit   \n",
              "...                                                  ...   ...     ...   \n",
              "15619  It is possible to run seperate processes on th...   AMD  reddit   \n",
              "15620  Can someone explain what is ment by an extra C...   AMD  reddit   \n",
              "15621  it comes with a stock cooler that keeps it coo...   AMD  reddit   \n",
              "15622          Ie just using the stock cooler in the box   AMD  reddit   \n",
              "15623                 Its all good but can it run Crysis   AMD  reddit   \n",
              "\n",
              "             Open        High         Low       Close   Adj Close  ...  \\\n",
              "0      172.350006  172.350006  169.600006  170.360001  169.140930  ...   \n",
              "1      172.350006  172.350006  169.600006  170.360001  169.140930  ...   \n",
              "2      172.350006  172.350006  169.600006  170.360001  169.140930  ...   \n",
              "3      172.350006  172.350006  169.600006  170.360001  169.140930  ...   \n",
              "4      172.350006  172.350006  169.600006  170.360001  169.140930  ...   \n",
              "...           ...         ...         ...         ...         ...  ...   \n",
              "15619  178.770004  178.889999  174.399994  177.830002  177.830002  ...   \n",
              "15620  178.770004  178.889999  174.399994  177.830002  177.830002  ...   \n",
              "15621  178.770004  178.889999  174.399994  177.830002  177.830002  ...   \n",
              "15622  178.770004  178.889999  174.399994  177.830002  177.830002  ...   \n",
              "15623  178.770004  178.889999  174.399994  177.830002  177.830002  ...   \n",
              "\n",
              "       head_label_count  Text_label_count  soxl_Open  soxl_High   soxl_Low  \\\n",
              "0                  -153               -47  45.830002  46.160000  44.380001   \n",
              "1                  -153               -47  45.830002  46.160000  44.380001   \n",
              "2                  -153               -47  45.830002  46.160000  44.380001   \n",
              "3                  -153               -47  45.830002  46.160000  44.380001   \n",
              "4                  -153               -47  45.830002  46.160000  44.380001   \n",
              "...                 ...               ...        ...        ...        ...   \n",
              "15619                26                -2  34.230000  35.130001  33.509998   \n",
              "15620                26                -2  34.230000  35.130001  33.509998   \n",
              "15621                26                -2  34.230000  35.130001  33.509998   \n",
              "15622                26                -2  34.230000  35.130001  33.509998   \n",
              "15623                26                -2  34.230000  35.130001  33.509998   \n",
              "\n",
              "       soxl_Close  soxl_Adj Close  soxl_Volume  soxl_Signal  soxl_next_Signal  \n",
              "0       45.880001       45.751553     57411500            1               3.0  \n",
              "1       45.880001       45.751553     57411500            1               3.0  \n",
              "2       45.880001       45.751553     57411500            1               3.0  \n",
              "3       45.880001       45.751553     57411500            1               3.0  \n",
              "4       45.880001       45.751553     57411500            1               3.0  \n",
              "...           ...             ...          ...          ...               ...  \n",
              "15619   35.040001       34.913151     54398800            3               0.0  \n",
              "15620   35.040001       34.913151     54398800            3               0.0  \n",
              "15621   35.040001       34.913151     54398800            3               0.0  \n",
              "15622   35.040001       34.913151     54398800            3               0.0  \n",
              "15623   35.040001       34.913151     54398800            3               0.0  \n",
              "\n",
              "[15624 rows x 31 columns]"
            ],
            "text/html": [
              "\n",
              "  <div id=\"df-a5baacef-09a0-4a82-ab07-5b0ff2dbfff5\" class=\"colab-df-container\">\n",
              "    <div>\n",
              "<style scoped>\n",
              "    .dataframe tbody tr th:only-of-type {\n",
              "        vertical-align: middle;\n",
              "    }\n",
              "\n",
              "    .dataframe tbody tr th {\n",
              "        vertical-align: top;\n",
              "    }\n",
              "\n",
              "    .dataframe thead th {\n",
              "        text-align: right;\n",
              "    }\n",
              "</style>\n",
              "<table border=\"1\" class=\"dataframe\">\n",
              "  <thead>\n",
              "    <tr style=\"text-align: right;\">\n",
              "      <th></th>\n",
              "      <th>head</th>\n",
              "      <th>Date</th>\n",
              "      <th>Text</th>\n",
              "      <th>type</th>\n",
              "      <th>src</th>\n",
              "      <th>Open</th>\n",
              "      <th>High</th>\n",
              "      <th>Low</th>\n",
              "      <th>Close</th>\n",
              "      <th>Adj Close</th>\n",
              "      <th>...</th>\n",
              "      <th>head_label_count</th>\n",
              "      <th>Text_label_count</th>\n",
              "      <th>soxl_Open</th>\n",
              "      <th>soxl_High</th>\n",
              "      <th>soxl_Low</th>\n",
              "      <th>soxl_Close</th>\n",
              "      <th>soxl_Adj Close</th>\n",
              "      <th>soxl_Volume</th>\n",
              "      <th>soxl_Signal</th>\n",
              "      <th>soxl_next_Signal</th>\n",
              "    </tr>\n",
              "  </thead>\n",
              "  <tbody>\n",
              "    <tr>\n",
              "      <th>0</th>\n",
              "      <td>TSMC soon to the moon</td>\n",
              "      <td>2024-04-02</td>\n",
              "      <td>20% oh I remember the optimize last month....b...</td>\n",
              "      <td>TSMC</td>\n",
              "      <td>reddit</td>\n",
              "      <td>172.350006</td>\n",
              "      <td>172.350006</td>\n",
              "      <td>169.600006</td>\n",
              "      <td>170.360001</td>\n",
              "      <td>169.140930</td>\n",
              "      <td>...</td>\n",
              "      <td>-153</td>\n",
              "      <td>-47</td>\n",
              "      <td>45.830002</td>\n",
              "      <td>46.160000</td>\n",
              "      <td>44.380001</td>\n",
              "      <td>45.880001</td>\n",
              "      <td>45.751553</td>\n",
              "      <td>57411500</td>\n",
              "      <td>1</td>\n",
              "      <td>3.0</td>\n",
              "    </tr>\n",
              "    <tr>\n",
              "      <th>1</th>\n",
              "      <td>TSMC soon to the moon</td>\n",
              "      <td>2024-04-02</td>\n",
              "      <td>Right there with you man....that 03/08 on TSMC...</td>\n",
              "      <td>TSMC</td>\n",
              "      <td>reddit</td>\n",
              "      <td>172.350006</td>\n",
              "      <td>172.350006</td>\n",
              "      <td>169.600006</td>\n",
              "      <td>170.360001</td>\n",
              "      <td>169.140930</td>\n",
              "      <td>...</td>\n",
              "      <td>-153</td>\n",
              "      <td>-47</td>\n",
              "      <td>45.830002</td>\n",
              "      <td>46.160000</td>\n",
              "      <td>44.380001</td>\n",
              "      <td>45.880001</td>\n",
              "      <td>45.751553</td>\n",
              "      <td>57411500</td>\n",
              "      <td>1</td>\n",
              "      <td>3.0</td>\n",
              "    </tr>\n",
              "    <tr>\n",
              "      <th>2</th>\n",
              "      <td>TSMC soon to the moon</td>\n",
              "      <td>2024-04-02</td>\n",
              "      <td>We ride at dawn</td>\n",
              "      <td>TSMC</td>\n",
              "      <td>reddit</td>\n",
              "      <td>172.350006</td>\n",
              "      <td>172.350006</td>\n",
              "      <td>169.600006</td>\n",
              "      <td>170.360001</td>\n",
              "      <td>169.140930</td>\n",
              "      <td>...</td>\n",
              "      <td>-153</td>\n",
              "      <td>-47</td>\n",
              "      <td>45.830002</td>\n",
              "      <td>46.160000</td>\n",
              "      <td>44.380001</td>\n",
              "      <td>45.880001</td>\n",
              "      <td>45.751553</td>\n",
              "      <td>57411500</td>\n",
              "      <td>1</td>\n",
              "      <td>3.0</td>\n",
              "    </tr>\n",
              "    <tr>\n",
              "      <th>3</th>\n",
              "      <td>TSMC soon to the moon</td>\n",
              "      <td>2024-04-02</td>\n",
              "      <td>Not a prediction, but $150 could be in the sta...</td>\n",
              "      <td>TSMC</td>\n",
              "      <td>reddit</td>\n",
              "      <td>172.350006</td>\n",
              "      <td>172.350006</td>\n",
              "      <td>169.600006</td>\n",
              "      <td>170.360001</td>\n",
              "      <td>169.140930</td>\n",
              "      <td>...</td>\n",
              "      <td>-153</td>\n",
              "      <td>-47</td>\n",
              "      <td>45.830002</td>\n",
              "      <td>46.160000</td>\n",
              "      <td>44.380001</td>\n",
              "      <td>45.880001</td>\n",
              "      <td>45.751553</td>\n",
              "      <td>57411500</td>\n",
              "      <td>1</td>\n",
              "      <td>3.0</td>\n",
              "    </tr>\n",
              "    <tr>\n",
              "      <th>4</th>\n",
              "      <td>TSMC soon to the moon</td>\n",
              "      <td>2024-04-02</td>\n",
              "      <td>I have $197 as my next target in the big picture.</td>\n",
              "      <td>TSMC</td>\n",
              "      <td>reddit</td>\n",
              "      <td>172.350006</td>\n",
              "      <td>172.350006</td>\n",
              "      <td>169.600006</td>\n",
              "      <td>170.360001</td>\n",
              "      <td>169.140930</td>\n",
              "      <td>...</td>\n",
              "      <td>-153</td>\n",
              "      <td>-47</td>\n",
              "      <td>45.830002</td>\n",
              "      <td>46.160000</td>\n",
              "      <td>44.380001</td>\n",
              "      <td>45.880001</td>\n",
              "      <td>45.751553</td>\n",
              "      <td>57411500</td>\n",
              "      <td>1</td>\n",
              "      <td>3.0</td>\n",
              "    </tr>\n",
              "    <tr>\n",
              "      <th>...</th>\n",
              "      <td>...</td>\n",
              "      <td>...</td>\n",
              "      <td>...</td>\n",
              "      <td>...</td>\n",
              "      <td>...</td>\n",
              "      <td>...</td>\n",
              "      <td>...</td>\n",
              "      <td>...</td>\n",
              "      <td>...</td>\n",
              "      <td>...</td>\n",
              "      <td>...</td>\n",
              "      <td>...</td>\n",
              "      <td>...</td>\n",
              "      <td>...</td>\n",
              "      <td>...</td>\n",
              "      <td>...</td>\n",
              "      <td>...</td>\n",
              "      <td>...</td>\n",
              "      <td>...</td>\n",
              "      <td>...</td>\n",
              "      <td>...</td>\n",
              "    </tr>\n",
              "    <tr>\n",
              "      <th>15619</th>\n",
              "      <td>AMDnew CPU hits 132fps in Fortnite without a g...</td>\n",
              "      <td>2024-01-29</td>\n",
              "      <td>It is possible to run seperate processes on th...</td>\n",
              "      <td>AMD</td>\n",
              "      <td>reddit</td>\n",
              "      <td>178.770004</td>\n",
              "      <td>178.889999</td>\n",
              "      <td>174.399994</td>\n",
              "      <td>177.830002</td>\n",
              "      <td>177.830002</td>\n",
              "      <td>...</td>\n",
              "      <td>26</td>\n",
              "      <td>-2</td>\n",
              "      <td>34.230000</td>\n",
              "      <td>35.130001</td>\n",
              "      <td>33.509998</td>\n",
              "      <td>35.040001</td>\n",
              "      <td>34.913151</td>\n",
              "      <td>54398800</td>\n",
              "      <td>3</td>\n",
              "      <td>0.0</td>\n",
              "    </tr>\n",
              "    <tr>\n",
              "      <th>15620</th>\n",
              "      <td>AMDnew CPU hits 132fps in Fortnite without a g...</td>\n",
              "      <td>2024-01-29</td>\n",
              "      <td>Can someone explain what is ment by an extra C...</td>\n",
              "      <td>AMD</td>\n",
              "      <td>reddit</td>\n",
              "      <td>178.770004</td>\n",
              "      <td>178.889999</td>\n",
              "      <td>174.399994</td>\n",
              "      <td>177.830002</td>\n",
              "      <td>177.830002</td>\n",
              "      <td>...</td>\n",
              "      <td>26</td>\n",
              "      <td>-2</td>\n",
              "      <td>34.230000</td>\n",
              "      <td>35.130001</td>\n",
              "      <td>33.509998</td>\n",
              "      <td>35.040001</td>\n",
              "      <td>34.913151</td>\n",
              "      <td>54398800</td>\n",
              "      <td>3</td>\n",
              "      <td>0.0</td>\n",
              "    </tr>\n",
              "    <tr>\n",
              "      <th>15621</th>\n",
              "      <td>AMDnew CPU hits 132fps in Fortnite without a g...</td>\n",
              "      <td>2024-01-29</td>\n",
              "      <td>it comes with a stock cooler that keeps it coo...</td>\n",
              "      <td>AMD</td>\n",
              "      <td>reddit</td>\n",
              "      <td>178.770004</td>\n",
              "      <td>178.889999</td>\n",
              "      <td>174.399994</td>\n",
              "      <td>177.830002</td>\n",
              "      <td>177.830002</td>\n",
              "      <td>...</td>\n",
              "      <td>26</td>\n",
              "      <td>-2</td>\n",
              "      <td>34.230000</td>\n",
              "      <td>35.130001</td>\n",
              "      <td>33.509998</td>\n",
              "      <td>35.040001</td>\n",
              "      <td>34.913151</td>\n",
              "      <td>54398800</td>\n",
              "      <td>3</td>\n",
              "      <td>0.0</td>\n",
              "    </tr>\n",
              "    <tr>\n",
              "      <th>15622</th>\n",
              "      <td>AMDnew CPU hits 132fps in Fortnite without a g...</td>\n",
              "      <td>2024-01-29</td>\n",
              "      <td>Ie just using the stock cooler in the box</td>\n",
              "      <td>AMD</td>\n",
              "      <td>reddit</td>\n",
              "      <td>178.770004</td>\n",
              "      <td>178.889999</td>\n",
              "      <td>174.399994</td>\n",
              "      <td>177.830002</td>\n",
              "      <td>177.830002</td>\n",
              "      <td>...</td>\n",
              "      <td>26</td>\n",
              "      <td>-2</td>\n",
              "      <td>34.230000</td>\n",
              "      <td>35.130001</td>\n",
              "      <td>33.509998</td>\n",
              "      <td>35.040001</td>\n",
              "      <td>34.913151</td>\n",
              "      <td>54398800</td>\n",
              "      <td>3</td>\n",
              "      <td>0.0</td>\n",
              "    </tr>\n",
              "    <tr>\n",
              "      <th>15623</th>\n",
              "      <td>AMDnew CPU hits 132fps in Fortnite without a g...</td>\n",
              "      <td>2024-01-29</td>\n",
              "      <td>Its all good but can it run Crysis</td>\n",
              "      <td>AMD</td>\n",
              "      <td>reddit</td>\n",
              "      <td>178.770004</td>\n",
              "      <td>178.889999</td>\n",
              "      <td>174.399994</td>\n",
              "      <td>177.830002</td>\n",
              "      <td>177.830002</td>\n",
              "      <td>...</td>\n",
              "      <td>26</td>\n",
              "      <td>-2</td>\n",
              "      <td>34.230000</td>\n",
              "      <td>35.130001</td>\n",
              "      <td>33.509998</td>\n",
              "      <td>35.040001</td>\n",
              "      <td>34.913151</td>\n",
              "      <td>54398800</td>\n",
              "      <td>3</td>\n",
              "      <td>0.0</td>\n",
              "    </tr>\n",
              "  </tbody>\n",
              "</table>\n",
              "<p>15624 rows × 31 columns</p>\n",
              "</div>\n",
              "    <div class=\"colab-df-buttons\">\n",
              "\n",
              "  <div class=\"colab-df-container\">\n",
              "    <button class=\"colab-df-convert\" onclick=\"convertToInteractive('df-a5baacef-09a0-4a82-ab07-5b0ff2dbfff5')\"\n",
              "            title=\"Convert this dataframe to an interactive table.\"\n",
              "            style=\"display:none;\">\n",
              "\n",
              "  <svg xmlns=\"http://www.w3.org/2000/svg\" height=\"24px\" viewBox=\"0 -960 960 960\">\n",
              "    <path d=\"M120-120v-720h720v720H120Zm60-500h600v-160H180v160Zm220 220h160v-160H400v160Zm0 220h160v-160H400v160ZM180-400h160v-160H180v160Zm440 0h160v-160H620v160ZM180-180h160v-160H180v160Zm440 0h160v-160H620v160Z\"/>\n",
              "  </svg>\n",
              "    </button>\n",
              "\n",
              "  <style>\n",
              "    .colab-df-container {\n",
              "      display:flex;\n",
              "      gap: 12px;\n",
              "    }\n",
              "\n",
              "    .colab-df-convert {\n",
              "      background-color: #E8F0FE;\n",
              "      border: none;\n",
              "      border-radius: 50%;\n",
              "      cursor: pointer;\n",
              "      display: none;\n",
              "      fill: #1967D2;\n",
              "      height: 32px;\n",
              "      padding: 0 0 0 0;\n",
              "      width: 32px;\n",
              "    }\n",
              "\n",
              "    .colab-df-convert:hover {\n",
              "      background-color: #E2EBFA;\n",
              "      box-shadow: 0px 1px 2px rgba(60, 64, 67, 0.3), 0px 1px 3px 1px rgba(60, 64, 67, 0.15);\n",
              "      fill: #174EA6;\n",
              "    }\n",
              "\n",
              "    .colab-df-buttons div {\n",
              "      margin-bottom: 4px;\n",
              "    }\n",
              "\n",
              "    [theme=dark] .colab-df-convert {\n",
              "      background-color: #3B4455;\n",
              "      fill: #D2E3FC;\n",
              "    }\n",
              "\n",
              "    [theme=dark] .colab-df-convert:hover {\n",
              "      background-color: #434B5C;\n",
              "      box-shadow: 0px 1px 3px 1px rgba(0, 0, 0, 0.15);\n",
              "      filter: drop-shadow(0px 1px 2px rgba(0, 0, 0, 0.3));\n",
              "      fill: #FFFFFF;\n",
              "    }\n",
              "  </style>\n",
              "\n",
              "    <script>\n",
              "      const buttonEl =\n",
              "        document.querySelector('#df-a5baacef-09a0-4a82-ab07-5b0ff2dbfff5 button.colab-df-convert');\n",
              "      buttonEl.style.display =\n",
              "        google.colab.kernel.accessAllowed ? 'block' : 'none';\n",
              "\n",
              "      async function convertToInteractive(key) {\n",
              "        const element = document.querySelector('#df-a5baacef-09a0-4a82-ab07-5b0ff2dbfff5');\n",
              "        const dataTable =\n",
              "          await google.colab.kernel.invokeFunction('convertToInteractive',\n",
              "                                                    [key], {});\n",
              "        if (!dataTable) return;\n",
              "\n",
              "        const docLinkHtml = 'Like what you see? Visit the ' +\n",
              "          '<a target=\"_blank\" href=https://colab.research.google.com/notebooks/data_table.ipynb>data table notebook</a>'\n",
              "          + ' to learn more about interactive tables.';\n",
              "        element.innerHTML = '';\n",
              "        dataTable['output_type'] = 'display_data';\n",
              "        await google.colab.output.renderOutput(dataTable, element);\n",
              "        const docLink = document.createElement('div');\n",
              "        docLink.innerHTML = docLinkHtml;\n",
              "        element.appendChild(docLink);\n",
              "      }\n",
              "    </script>\n",
              "  </div>\n",
              "\n",
              "\n",
              "<div id=\"df-bdfcd859-fee6-4c0c-98a9-526d28c0378c\">\n",
              "  <button class=\"colab-df-quickchart\" onclick=\"quickchart('df-bdfcd859-fee6-4c0c-98a9-526d28c0378c')\"\n",
              "            title=\"Suggest charts\"\n",
              "            style=\"display:none;\">\n",
              "\n",
              "<svg xmlns=\"http://www.w3.org/2000/svg\" height=\"24px\"viewBox=\"0 0 24 24\"\n",
              "     width=\"24px\">\n",
              "    <g>\n",
              "        <path d=\"M19 3H5c-1.1 0-2 .9-2 2v14c0 1.1.9 2 2 2h14c1.1 0 2-.9 2-2V5c0-1.1-.9-2-2-2zM9 17H7v-7h2v7zm4 0h-2V7h2v10zm4 0h-2v-4h2v4z\"/>\n",
              "    </g>\n",
              "</svg>\n",
              "  </button>\n",
              "\n",
              "<style>\n",
              "  .colab-df-quickchart {\n",
              "      --bg-color: #E8F0FE;\n",
              "      --fill-color: #1967D2;\n",
              "      --hover-bg-color: #E2EBFA;\n",
              "      --hover-fill-color: #174EA6;\n",
              "      --disabled-fill-color: #AAA;\n",
              "      --disabled-bg-color: #DDD;\n",
              "  }\n",
              "\n",
              "  [theme=dark] .colab-df-quickchart {\n",
              "      --bg-color: #3B4455;\n",
              "      --fill-color: #D2E3FC;\n",
              "      --hover-bg-color: #434B5C;\n",
              "      --hover-fill-color: #FFFFFF;\n",
              "      --disabled-bg-color: #3B4455;\n",
              "      --disabled-fill-color: #666;\n",
              "  }\n",
              "\n",
              "  .colab-df-quickchart {\n",
              "    background-color: var(--bg-color);\n",
              "    border: none;\n",
              "    border-radius: 50%;\n",
              "    cursor: pointer;\n",
              "    display: none;\n",
              "    fill: var(--fill-color);\n",
              "    height: 32px;\n",
              "    padding: 0;\n",
              "    width: 32px;\n",
              "  }\n",
              "\n",
              "  .colab-df-quickchart:hover {\n",
              "    background-color: var(--hover-bg-color);\n",
              "    box-shadow: 0 1px 2px rgba(60, 64, 67, 0.3), 0 1px 3px 1px rgba(60, 64, 67, 0.15);\n",
              "    fill: var(--button-hover-fill-color);\n",
              "  }\n",
              "\n",
              "  .colab-df-quickchart-complete:disabled,\n",
              "  .colab-df-quickchart-complete:disabled:hover {\n",
              "    background-color: var(--disabled-bg-color);\n",
              "    fill: var(--disabled-fill-color);\n",
              "    box-shadow: none;\n",
              "  }\n",
              "\n",
              "  .colab-df-spinner {\n",
              "    border: 2px solid var(--fill-color);\n",
              "    border-color: transparent;\n",
              "    border-bottom-color: var(--fill-color);\n",
              "    animation:\n",
              "      spin 1s steps(1) infinite;\n",
              "  }\n",
              "\n",
              "  @keyframes spin {\n",
              "    0% {\n",
              "      border-color: transparent;\n",
              "      border-bottom-color: var(--fill-color);\n",
              "      border-left-color: var(--fill-color);\n",
              "    }\n",
              "    20% {\n",
              "      border-color: transparent;\n",
              "      border-left-color: var(--fill-color);\n",
              "      border-top-color: var(--fill-color);\n",
              "    }\n",
              "    30% {\n",
              "      border-color: transparent;\n",
              "      border-left-color: var(--fill-color);\n",
              "      border-top-color: var(--fill-color);\n",
              "      border-right-color: var(--fill-color);\n",
              "    }\n",
              "    40% {\n",
              "      border-color: transparent;\n",
              "      border-right-color: var(--fill-color);\n",
              "      border-top-color: var(--fill-color);\n",
              "    }\n",
              "    60% {\n",
              "      border-color: transparent;\n",
              "      border-right-color: var(--fill-color);\n",
              "    }\n",
              "    80% {\n",
              "      border-color: transparent;\n",
              "      border-right-color: var(--fill-color);\n",
              "      border-bottom-color: var(--fill-color);\n",
              "    }\n",
              "    90% {\n",
              "      border-color: transparent;\n",
              "      border-bottom-color: var(--fill-color);\n",
              "    }\n",
              "  }\n",
              "</style>\n",
              "\n",
              "  <script>\n",
              "    async function quickchart(key) {\n",
              "      const quickchartButtonEl =\n",
              "        document.querySelector('#' + key + ' button');\n",
              "      quickchartButtonEl.disabled = true;  // To prevent multiple clicks.\n",
              "      quickchartButtonEl.classList.add('colab-df-spinner');\n",
              "      try {\n",
              "        const charts = await google.colab.kernel.invokeFunction(\n",
              "            'suggestCharts', [key], {});\n",
              "      } catch (error) {\n",
              "        console.error('Error during call to suggestCharts:', error);\n",
              "      }\n",
              "      quickchartButtonEl.classList.remove('colab-df-spinner');\n",
              "      quickchartButtonEl.classList.add('colab-df-quickchart-complete');\n",
              "    }\n",
              "    (() => {\n",
              "      let quickchartButtonEl =\n",
              "        document.querySelector('#df-bdfcd859-fee6-4c0c-98a9-526d28c0378c button');\n",
              "      quickchartButtonEl.style.display =\n",
              "        google.colab.kernel.accessAllowed ? 'block' : 'none';\n",
              "    })();\n",
              "  </script>\n",
              "</div>\n",
              "\n",
              "  <div id=\"id_094c30f6-f450-4384-adfc-d8d71545f429\">\n",
              "    <style>\n",
              "      .colab-df-generate {\n",
              "        background-color: #E8F0FE;\n",
              "        border: none;\n",
              "        border-radius: 50%;\n",
              "        cursor: pointer;\n",
              "        display: none;\n",
              "        fill: #1967D2;\n",
              "        height: 32px;\n",
              "        padding: 0 0 0 0;\n",
              "        width: 32px;\n",
              "      }\n",
              "\n",
              "      .colab-df-generate:hover {\n",
              "        background-color: #E2EBFA;\n",
              "        box-shadow: 0px 1px 2px rgba(60, 64, 67, 0.3), 0px 1px 3px 1px rgba(60, 64, 67, 0.15);\n",
              "        fill: #174EA6;\n",
              "      }\n",
              "\n",
              "      [theme=dark] .colab-df-generate {\n",
              "        background-color: #3B4455;\n",
              "        fill: #D2E3FC;\n",
              "      }\n",
              "\n",
              "      [theme=dark] .colab-df-generate:hover {\n",
              "        background-color: #434B5C;\n",
              "        box-shadow: 0px 1px 3px 1px rgba(0, 0, 0, 0.15);\n",
              "        filter: drop-shadow(0px 1px 2px rgba(0, 0, 0, 0.3));\n",
              "        fill: #FFFFFF;\n",
              "      }\n",
              "    </style>\n",
              "    <button class=\"colab-df-generate\" onclick=\"generateWithVariable('merged_df')\"\n",
              "            title=\"Generate code using this dataframe.\"\n",
              "            style=\"display:none;\">\n",
              "\n",
              "  <svg xmlns=\"http://www.w3.org/2000/svg\" height=\"24px\"viewBox=\"0 0 24 24\"\n",
              "       width=\"24px\">\n",
              "    <path d=\"M7,19H8.4L18.45,9,17,7.55,7,17.6ZM5,21V16.75L18.45,3.32a2,2,0,0,1,2.83,0l1.4,1.43a1.91,1.91,0,0,1,.58,1.4,1.91,1.91,0,0,1-.58,1.4L9.25,21ZM18.45,9,17,7.55Zm-12,3A5.31,5.31,0,0,0,4.9,8.1,5.31,5.31,0,0,0,1,6.5,5.31,5.31,0,0,0,4.9,4.9,5.31,5.31,0,0,0,6.5,1,5.31,5.31,0,0,0,8.1,4.9,5.31,5.31,0,0,0,12,6.5,5.46,5.46,0,0,0,6.5,12Z\"/>\n",
              "  </svg>\n",
              "    </button>\n",
              "    <script>\n",
              "      (() => {\n",
              "      const buttonEl =\n",
              "        document.querySelector('#id_094c30f6-f450-4384-adfc-d8d71545f429 button.colab-df-generate');\n",
              "      buttonEl.style.display =\n",
              "        google.colab.kernel.accessAllowed ? 'block' : 'none';\n",
              "\n",
              "      buttonEl.onclick = () => {\n",
              "        google.colab.notebook.generateWithVariable('merged_df');\n",
              "      }\n",
              "      })();\n",
              "    </script>\n",
              "  </div>\n",
              "\n",
              "    </div>\n",
              "  </div>\n"
            ],
            "application/vnd.google.colaboratory.intrinsic+json": {
              "type": "dataframe",
              "variable_name": "merged_df"
            }
          },
          "metadata": {},
          "execution_count": 26
        }
      ],
      "source": [
        "merged_df = pd.merge(df, df_soxl, on='Date')\n",
        "merged_df"
      ]
    },
    {
      "cell_type": "code",
      "execution_count": 27,
      "metadata": {
        "id": "Er7GWdZETAdi"
      },
      "outputs": [],
      "source": [
        "df= merged_df.copy()"
      ]
    },
    {
      "cell_type": "code",
      "source": [
        "df = df.drop(columns=['SOXL_Open', 'SOXL_High', 'SOXL_Low', 'SOXL_Close', 'SOXL_Adj Close', 'SOXL_Volume'])\n"
      ],
      "metadata": {
        "id": "4sTYHTevQeFf"
      },
      "execution_count": 28,
      "outputs": []
    },
    {
      "cell_type": "code",
      "source": [
        "17+8"
      ],
      "metadata": {
        "colab": {
          "base_uri": "https://localhost:8080/"
        },
        "id": "yJCLm-aHVIcO",
        "outputId": "0c75dea9-0abe-4dd6-ff66-e5aa2aaff1cf"
      },
      "execution_count": 29,
      "outputs": [
        {
          "output_type": "execute_result",
          "data": {
            "text/plain": [
              "25"
            ]
          },
          "metadata": {},
          "execution_count": 29
        }
      ]
    },
    {
      "cell_type": "code",
      "source": [
        "df.shape"
      ],
      "metadata": {
        "colab": {
          "base_uri": "https://localhost:8080/"
        },
        "id": "My0KFAkoJIlb",
        "outputId": "ff9c3f18-55ed-4f11-f025-b192b499d8a9"
      },
      "execution_count": 30,
      "outputs": [
        {
          "output_type": "execute_result",
          "data": {
            "text/plain": [
              "(15624, 25)"
            ]
          },
          "metadata": {},
          "execution_count": 30
        }
      ]
    },
    {
      "cell_type": "code",
      "source": [
        "df.columns"
      ],
      "metadata": {
        "colab": {
          "base_uri": "https://localhost:8080/"
        },
        "id": "4OJjrkrDKyWH",
        "outputId": "54b363ff-50e6-4fab-900b-c117645f9936"
      },
      "execution_count": 31,
      "outputs": [
        {
          "output_type": "execute_result",
          "data": {
            "text/plain": [
              "Index(['head', 'Date', 'Text', 'type', 'src', 'Open', 'High', 'Low', 'Close',\n",
              "       'Adj Close', 'Volume', 'head_wordcount', 'Text_wordcount', 'head_label',\n",
              "       'Text_label', 'head_label_count', 'Text_label_count', 'soxl_Open',\n",
              "       'soxl_High', 'soxl_Low', 'soxl_Close', 'soxl_Adj Close', 'soxl_Volume',\n",
              "       'soxl_Signal', 'soxl_next_Signal'],\n",
              "      dtype='object')"
            ]
          },
          "metadata": {},
          "execution_count": 31
        }
      ]
    },
    {
      "cell_type": "markdown",
      "source": [
        "#날짜 추출하기"
      ],
      "metadata": {
        "id": "Z2Z6hWkCNDu_"
      }
    },
    {
      "cell_type": "code",
      "execution_count": 32,
      "metadata": {
        "id": "0zJtNpNixPpc"
      },
      "outputs": [],
      "source": [
        "# 'Date' 컬럼에서 날짜 추출\n",
        "df['Day'] = df['Date'].dt.day\n",
        "\n",
        "# 'Date' 컬럼에서 월 추출\n",
        "df['Month'] = df['Date'].dt.month\n",
        "\n",
        "# 'Date' 컬럼에서 요일 추출\n",
        "df['Day_of_week'] = df['Date'].dt.dayofweek\n",
        "\n",
        "# 'Date' 컬럼에서 주(년 중 몇 번째 주인지) 추출\n",
        "df['Week_of_year'] = df['Date'].dt.isocalendar().week\n"
      ]
    },
    {
      "cell_type": "markdown",
      "metadata": {
        "id": "vVSuow9KPX8v"
      },
      "source": [
        "#원핫인코딩"
      ]
    },
    {
      "cell_type": "code",
      "execution_count": 33,
      "metadata": {
        "id": "PWxYfTC8PrJE"
      },
      "outputs": [],
      "source": [
        "#df.drop(columns=['Close','SOXL_Close'], inplace=True)"
      ]
    },
    {
      "cell_type": "code",
      "source": [
        "df.shape"
      ],
      "metadata": {
        "colab": {
          "base_uri": "https://localhost:8080/"
        },
        "id": "_seQ-_YyOgl6",
        "outputId": "61aa37cf-6315-490d-dd72-b0927c91cc0d"
      },
      "execution_count": 34,
      "outputs": [
        {
          "output_type": "execute_result",
          "data": {
            "text/plain": [
              "(15624, 29)"
            ]
          },
          "metadata": {},
          "execution_count": 34
        }
      ]
    },
    {
      "cell_type": "code",
      "source": [
        "df.columns"
      ],
      "metadata": {
        "colab": {
          "base_uri": "https://localhost:8080/"
        },
        "id": "E68-hAKuTr2Q",
        "outputId": "3287c349-9465-4942-c4ee-55c6d1d166e0"
      },
      "execution_count": 35,
      "outputs": [
        {
          "output_type": "execute_result",
          "data": {
            "text/plain": [
              "Index(['head', 'Date', 'Text', 'type', 'src', 'Open', 'High', 'Low', 'Close',\n",
              "       'Adj Close', 'Volume', 'head_wordcount', 'Text_wordcount', 'head_label',\n",
              "       'Text_label', 'head_label_count', 'Text_label_count', 'soxl_Open',\n",
              "       'soxl_High', 'soxl_Low', 'soxl_Close', 'soxl_Adj Close', 'soxl_Volume',\n",
              "       'soxl_Signal', 'soxl_next_Signal', 'Day', 'Month', 'Day_of_week',\n",
              "       'Week_of_year'],\n",
              "      dtype='object')"
            ]
          },
          "metadata": {},
          "execution_count": 35
        }
      ]
    },
    {
      "cell_type": "markdown",
      "metadata": {
        "id": "6QSltRfPPrbp"
      },
      "source": [
        "##src"
      ]
    },
    {
      "cell_type": "code",
      "execution_count": 36,
      "metadata": {
        "id": "diF2H_4QI1qR"
      },
      "outputs": [],
      "source": [
        "df_onehot = pd.get_dummies(df, columns=['src','type'])\n",
        "\n",
        "# 기존의 src 컬럼 제거\n",
        "df.drop(columns=['src','type'], inplace=True)\n",
        "\n",
        "# 원본 DataFrame에 다시 합치기\n",
        "df = pd.concat([df, df_onehot], axis=1)\n",
        "# 겹치는 컬럼 제거\n",
        "df = df.loc[:, ~df.columns.duplicated()]"
      ]
    },
    {
      "cell_type": "code",
      "source": [
        "df.shape"
      ],
      "metadata": {
        "colab": {
          "base_uri": "https://localhost:8080/"
        },
        "id": "RHSoltMQOCcK",
        "outputId": "06930832-f613-4f08-8f12-4ccac5d87fb2"
      },
      "execution_count": 37,
      "outputs": [
        {
          "output_type": "execute_result",
          "data": {
            "text/plain": [
              "(15624, 58)"
            ]
          },
          "metadata": {},
          "execution_count": 37
        }
      ]
    },
    {
      "cell_type": "code",
      "source": [
        "df=df.dropna()\n",
        "df.shape"
      ],
      "metadata": {
        "colab": {
          "base_uri": "https://localhost:8080/"
        },
        "id": "0i5AczvtTP37",
        "outputId": "0940b872-5ef9-475d-ff6f-ab460c538f9c"
      },
      "execution_count": 38,
      "outputs": [
        {
          "output_type": "execute_result",
          "data": {
            "text/plain": [
              "(15624, 58)"
            ]
          },
          "metadata": {},
          "execution_count": 38
        }
      ]
    },
    {
      "cell_type": "markdown",
      "metadata": {
        "id": "gn0qs_okP-Vw"
      },
      "source": [
        "#word2vec 진행"
      ]
    },
    {
      "cell_type": "code",
      "execution_count": 39,
      "metadata": {
        "colab": {
          "base_uri": "https://localhost:8080/"
        },
        "collapsed": true,
        "id": "wpSDtmaHQ2_T",
        "outputId": "12107e02-1796-463b-be8a-fda18fc3382d"
      },
      "outputs": [
        {
          "output_type": "stream",
          "name": "stderr",
          "text": [
            "[nltk_data] Downloading collection 'all'\n",
            "[nltk_data]    | \n",
            "[nltk_data]    | Downloading package abc to /root/nltk_data...\n",
            "[nltk_data]    |   Unzipping corpora/abc.zip.\n",
            "[nltk_data]    | Downloading package alpino to /root/nltk_data...\n",
            "[nltk_data]    |   Unzipping corpora/alpino.zip.\n",
            "[nltk_data]    | Downloading package averaged_perceptron_tagger to\n",
            "[nltk_data]    |     /root/nltk_data...\n",
            "[nltk_data]    |   Unzipping taggers/averaged_perceptron_tagger.zip.\n",
            "[nltk_data]    | Downloading package averaged_perceptron_tagger_eng to\n",
            "[nltk_data]    |     /root/nltk_data...\n",
            "[nltk_data]    |   Unzipping\n",
            "[nltk_data]    |       taggers/averaged_perceptron_tagger_eng.zip.\n",
            "[nltk_data]    | Downloading package averaged_perceptron_tagger_ru to\n",
            "[nltk_data]    |     /root/nltk_data...\n",
            "[nltk_data]    |   Unzipping\n",
            "[nltk_data]    |       taggers/averaged_perceptron_tagger_ru.zip.\n",
            "[nltk_data]    | Downloading package averaged_perceptron_tagger_rus to\n",
            "[nltk_data]    |     /root/nltk_data...\n",
            "[nltk_data]    |   Unzipping\n",
            "[nltk_data]    |       taggers/averaged_perceptron_tagger_rus.zip.\n",
            "[nltk_data]    | Downloading package basque_grammars to\n",
            "[nltk_data]    |     /root/nltk_data...\n",
            "[nltk_data]    |   Unzipping grammars/basque_grammars.zip.\n",
            "[nltk_data]    | Downloading package bcp47 to /root/nltk_data...\n",
            "[nltk_data]    | Downloading package biocreative_ppi to\n",
            "[nltk_data]    |     /root/nltk_data...\n",
            "[nltk_data]    |   Unzipping corpora/biocreative_ppi.zip.\n",
            "[nltk_data]    | Downloading package bllip_wsj_no_aux to\n",
            "[nltk_data]    |     /root/nltk_data...\n",
            "[nltk_data]    |   Unzipping models/bllip_wsj_no_aux.zip.\n",
            "[nltk_data]    | Downloading package book_grammars to\n",
            "[nltk_data]    |     /root/nltk_data...\n",
            "[nltk_data]    |   Unzipping grammars/book_grammars.zip.\n",
            "[nltk_data]    | Downloading package brown to /root/nltk_data...\n",
            "[nltk_data]    |   Unzipping corpora/brown.zip.\n",
            "[nltk_data]    | Downloading package brown_tei to /root/nltk_data...\n",
            "[nltk_data]    |   Unzipping corpora/brown_tei.zip.\n",
            "[nltk_data]    | Downloading package cess_cat to /root/nltk_data...\n",
            "[nltk_data]    |   Unzipping corpora/cess_cat.zip.\n",
            "[nltk_data]    | Downloading package cess_esp to /root/nltk_data...\n",
            "[nltk_data]    |   Unzipping corpora/cess_esp.zip.\n",
            "[nltk_data]    | Downloading package chat80 to /root/nltk_data...\n",
            "[nltk_data]    |   Unzipping corpora/chat80.zip.\n",
            "[nltk_data]    | Downloading package city_database to\n",
            "[nltk_data]    |     /root/nltk_data...\n",
            "[nltk_data]    |   Unzipping corpora/city_database.zip.\n",
            "[nltk_data]    | Downloading package cmudict to /root/nltk_data...\n",
            "[nltk_data]    |   Unzipping corpora/cmudict.zip.\n",
            "[nltk_data]    | Downloading package comparative_sentences to\n",
            "[nltk_data]    |     /root/nltk_data...\n",
            "[nltk_data]    |   Unzipping corpora/comparative_sentences.zip.\n",
            "[nltk_data]    | Downloading package comtrans to /root/nltk_data...\n",
            "[nltk_data]    | Downloading package conll2000 to /root/nltk_data...\n",
            "[nltk_data]    |   Unzipping corpora/conll2000.zip.\n",
            "[nltk_data]    | Downloading package conll2002 to /root/nltk_data...\n",
            "[nltk_data]    |   Unzipping corpora/conll2002.zip.\n",
            "[nltk_data]    | Downloading package conll2007 to /root/nltk_data...\n",
            "[nltk_data]    | Downloading package crubadan to /root/nltk_data...\n",
            "[nltk_data]    |   Unzipping corpora/crubadan.zip.\n",
            "[nltk_data]    | Downloading package dependency_treebank to\n",
            "[nltk_data]    |     /root/nltk_data...\n",
            "[nltk_data]    |   Unzipping corpora/dependency_treebank.zip.\n",
            "[nltk_data]    | Downloading package dolch to /root/nltk_data...\n",
            "[nltk_data]    |   Unzipping corpora/dolch.zip.\n",
            "[nltk_data]    | Downloading package europarl_raw to\n",
            "[nltk_data]    |     /root/nltk_data...\n",
            "[nltk_data]    |   Unzipping corpora/europarl_raw.zip.\n",
            "[nltk_data]    | Downloading package extended_omw to\n",
            "[nltk_data]    |     /root/nltk_data...\n",
            "[nltk_data]    | Downloading package floresta to /root/nltk_data...\n",
            "[nltk_data]    |   Unzipping corpora/floresta.zip.\n",
            "[nltk_data]    | Downloading package framenet_v15 to\n",
            "[nltk_data]    |     /root/nltk_data...\n",
            "[nltk_data]    |   Unzipping corpora/framenet_v15.zip.\n",
            "[nltk_data]    | Downloading package framenet_v17 to\n",
            "[nltk_data]    |     /root/nltk_data...\n",
            "[nltk_data]    |   Unzipping corpora/framenet_v17.zip.\n",
            "[nltk_data]    | Downloading package gazetteers to /root/nltk_data...\n",
            "[nltk_data]    |   Unzipping corpora/gazetteers.zip.\n",
            "[nltk_data]    | Downloading package genesis to /root/nltk_data...\n",
            "[nltk_data]    |   Unzipping corpora/genesis.zip.\n",
            "[nltk_data]    | Downloading package gutenberg to /root/nltk_data...\n",
            "[nltk_data]    |   Unzipping corpora/gutenberg.zip.\n",
            "[nltk_data]    | Downloading package ieer to /root/nltk_data...\n",
            "[nltk_data]    |   Unzipping corpora/ieer.zip.\n",
            "[nltk_data]    | Downloading package inaugural to /root/nltk_data...\n",
            "[nltk_data]    |   Unzipping corpora/inaugural.zip.\n",
            "[nltk_data]    | Downloading package indian to /root/nltk_data...\n",
            "[nltk_data]    |   Unzipping corpora/indian.zip.\n",
            "[nltk_data]    | Downloading package jeita to /root/nltk_data...\n",
            "[nltk_data]    | Downloading package kimmo to /root/nltk_data...\n",
            "[nltk_data]    |   Unzipping corpora/kimmo.zip.\n",
            "[nltk_data]    | Downloading package knbc to /root/nltk_data...\n",
            "[nltk_data]    | Downloading package large_grammars to\n",
            "[nltk_data]    |     /root/nltk_data...\n",
            "[nltk_data]    |   Unzipping grammars/large_grammars.zip.\n",
            "[nltk_data]    | Downloading package lin_thesaurus to\n",
            "[nltk_data]    |     /root/nltk_data...\n",
            "[nltk_data]    |   Unzipping corpora/lin_thesaurus.zip.\n",
            "[nltk_data]    | Downloading package mac_morpho to /root/nltk_data...\n",
            "[nltk_data]    |   Unzipping corpora/mac_morpho.zip.\n",
            "[nltk_data]    | Downloading package machado to /root/nltk_data...\n",
            "[nltk_data]    | Downloading package masc_tagged to /root/nltk_data...\n",
            "[nltk_data]    | Downloading package maxent_ne_chunker to\n",
            "[nltk_data]    |     /root/nltk_data...\n",
            "[nltk_data]    |   Unzipping chunkers/maxent_ne_chunker.zip.\n",
            "[nltk_data]    | Downloading package maxent_treebank_pos_tagger to\n",
            "[nltk_data]    |     /root/nltk_data...\n",
            "[nltk_data]    |   Unzipping taggers/maxent_treebank_pos_tagger.zip.\n",
            "[nltk_data]    | Downloading package moses_sample to\n",
            "[nltk_data]    |     /root/nltk_data...\n",
            "[nltk_data]    |   Unzipping models/moses_sample.zip.\n",
            "[nltk_data]    | Downloading package movie_reviews to\n",
            "[nltk_data]    |     /root/nltk_data...\n",
            "[nltk_data]    |   Unzipping corpora/movie_reviews.zip.\n",
            "[nltk_data]    | Downloading package mte_teip5 to /root/nltk_data...\n",
            "[nltk_data]    |   Unzipping corpora/mte_teip5.zip.\n",
            "[nltk_data]    | Downloading package mwa_ppdb to /root/nltk_data...\n",
            "[nltk_data]    |   Unzipping misc/mwa_ppdb.zip.\n",
            "[nltk_data]    | Downloading package names to /root/nltk_data...\n",
            "[nltk_data]    |   Unzipping corpora/names.zip.\n",
            "[nltk_data]    | Downloading package nombank.1.0 to /root/nltk_data...\n",
            "[nltk_data]    | Downloading package nonbreaking_prefixes to\n",
            "[nltk_data]    |     /root/nltk_data...\n",
            "[nltk_data]    |   Unzipping corpora/nonbreaking_prefixes.zip.\n",
            "[nltk_data]    | Downloading package nps_chat to /root/nltk_data...\n",
            "[nltk_data]    |   Unzipping corpora/nps_chat.zip.\n",
            "[nltk_data]    | Downloading package omw to /root/nltk_data...\n",
            "[nltk_data]    | Downloading package omw-1.4 to /root/nltk_data...\n",
            "[nltk_data]    | Downloading package opinion_lexicon to\n",
            "[nltk_data]    |     /root/nltk_data...\n",
            "[nltk_data]    |   Unzipping corpora/opinion_lexicon.zip.\n",
            "[nltk_data]    | Downloading package panlex_swadesh to\n",
            "[nltk_data]    |     /root/nltk_data...\n",
            "[nltk_data]    | Downloading package paradigms to /root/nltk_data...\n",
            "[nltk_data]    |   Unzipping corpora/paradigms.zip.\n",
            "[nltk_data]    | Downloading package pe08 to /root/nltk_data...\n",
            "[nltk_data]    |   Unzipping corpora/pe08.zip.\n",
            "[nltk_data]    | Downloading package perluniprops to\n",
            "[nltk_data]    |     /root/nltk_data...\n",
            "[nltk_data]    |   Unzipping misc/perluniprops.zip.\n",
            "[nltk_data]    | Downloading package pil to /root/nltk_data...\n",
            "[nltk_data]    |   Unzipping corpora/pil.zip.\n",
            "[nltk_data]    | Downloading package pl196x to /root/nltk_data...\n",
            "[nltk_data]    |   Unzipping corpora/pl196x.zip.\n",
            "[nltk_data]    | Downloading package porter_test to /root/nltk_data...\n",
            "[nltk_data]    |   Unzipping stemmers/porter_test.zip.\n",
            "[nltk_data]    | Downloading package ppattach to /root/nltk_data...\n",
            "[nltk_data]    |   Unzipping corpora/ppattach.zip.\n",
            "[nltk_data]    | Downloading package problem_reports to\n",
            "[nltk_data]    |     /root/nltk_data...\n",
            "[nltk_data]    |   Unzipping corpora/problem_reports.zip.\n",
            "[nltk_data]    | Downloading package product_reviews_1 to\n",
            "[nltk_data]    |     /root/nltk_data...\n",
            "[nltk_data]    |   Unzipping corpora/product_reviews_1.zip.\n",
            "[nltk_data]    | Downloading package product_reviews_2 to\n",
            "[nltk_data]    |     /root/nltk_data...\n",
            "[nltk_data]    |   Unzipping corpora/product_reviews_2.zip.\n",
            "[nltk_data]    | Downloading package propbank to /root/nltk_data...\n",
            "[nltk_data]    | Downloading package pros_cons to /root/nltk_data...\n",
            "[nltk_data]    |   Unzipping corpora/pros_cons.zip.\n",
            "[nltk_data]    | Downloading package ptb to /root/nltk_data...\n",
            "[nltk_data]    |   Unzipping corpora/ptb.zip.\n",
            "[nltk_data]    | Downloading package punkt to /root/nltk_data...\n",
            "[nltk_data]    |   Unzipping tokenizers/punkt.zip.\n",
            "[nltk_data]    | Downloading package qc to /root/nltk_data...\n",
            "[nltk_data]    |   Unzipping corpora/qc.zip.\n",
            "[nltk_data]    | Downloading package reuters to /root/nltk_data...\n",
            "[nltk_data]    | Downloading package rslp to /root/nltk_data...\n",
            "[nltk_data]    |   Unzipping stemmers/rslp.zip.\n",
            "[nltk_data]    | Downloading package rte to /root/nltk_data...\n",
            "[nltk_data]    |   Unzipping corpora/rte.zip.\n",
            "[nltk_data]    | Downloading package sample_grammars to\n",
            "[nltk_data]    |     /root/nltk_data...\n",
            "[nltk_data]    |   Unzipping grammars/sample_grammars.zip.\n",
            "[nltk_data]    | Downloading package semcor to /root/nltk_data...\n",
            "[nltk_data]    | Downloading package senseval to /root/nltk_data...\n",
            "[nltk_data]    |   Unzipping corpora/senseval.zip.\n",
            "[nltk_data]    | Downloading package sentence_polarity to\n",
            "[nltk_data]    |     /root/nltk_data...\n",
            "[nltk_data]    |   Unzipping corpora/sentence_polarity.zip.\n",
            "[nltk_data]    | Downloading package sentiwordnet to\n",
            "[nltk_data]    |     /root/nltk_data...\n",
            "[nltk_data]    |   Unzipping corpora/sentiwordnet.zip.\n",
            "[nltk_data]    | Downloading package shakespeare to /root/nltk_data...\n",
            "[nltk_data]    |   Unzipping corpora/shakespeare.zip.\n",
            "[nltk_data]    | Downloading package sinica_treebank to\n",
            "[nltk_data]    |     /root/nltk_data...\n",
            "[nltk_data]    |   Unzipping corpora/sinica_treebank.zip.\n",
            "[nltk_data]    | Downloading package smultron to /root/nltk_data...\n",
            "[nltk_data]    |   Unzipping corpora/smultron.zip.\n",
            "[nltk_data]    | Downloading package snowball_data to\n",
            "[nltk_data]    |     /root/nltk_data...\n",
            "[nltk_data]    | Downloading package spanish_grammars to\n",
            "[nltk_data]    |     /root/nltk_data...\n",
            "[nltk_data]    |   Unzipping grammars/spanish_grammars.zip.\n",
            "[nltk_data]    | Downloading package state_union to /root/nltk_data...\n",
            "[nltk_data]    |   Unzipping corpora/state_union.zip.\n",
            "[nltk_data]    | Downloading package stopwords to /root/nltk_data...\n",
            "[nltk_data]    |   Unzipping corpora/stopwords.zip.\n",
            "[nltk_data]    | Downloading package subjectivity to\n",
            "[nltk_data]    |     /root/nltk_data...\n",
            "[nltk_data]    |   Unzipping corpora/subjectivity.zip.\n",
            "[nltk_data]    | Downloading package swadesh to /root/nltk_data...\n",
            "[nltk_data]    |   Unzipping corpora/swadesh.zip.\n",
            "[nltk_data]    | Downloading package switchboard to /root/nltk_data...\n",
            "[nltk_data]    |   Unzipping corpora/switchboard.zip.\n",
            "[nltk_data]    | Downloading package tagsets to /root/nltk_data...\n",
            "[nltk_data]    |   Unzipping help/tagsets.zip.\n",
            "[nltk_data]    | Downloading package tagsets_json to\n",
            "[nltk_data]    |     /root/nltk_data...\n",
            "[nltk_data]    |   Unzipping help/tagsets_json.zip.\n",
            "[nltk_data]    | Downloading package timit to /root/nltk_data...\n",
            "[nltk_data]    |   Unzipping corpora/timit.zip.\n",
            "[nltk_data]    | Downloading package toolbox to /root/nltk_data...\n",
            "[nltk_data]    |   Unzipping corpora/toolbox.zip.\n",
            "[nltk_data]    | Downloading package treebank to /root/nltk_data...\n",
            "[nltk_data]    |   Unzipping corpora/treebank.zip.\n",
            "[nltk_data]    | Downloading package twitter_samples to\n",
            "[nltk_data]    |     /root/nltk_data...\n",
            "[nltk_data]    |   Unzipping corpora/twitter_samples.zip.\n",
            "[nltk_data]    | Downloading package udhr to /root/nltk_data...\n",
            "[nltk_data]    |   Unzipping corpora/udhr.zip.\n",
            "[nltk_data]    | Downloading package udhr2 to /root/nltk_data...\n",
            "[nltk_data]    |   Unzipping corpora/udhr2.zip.\n",
            "[nltk_data]    | Downloading package unicode_samples to\n",
            "[nltk_data]    |     /root/nltk_data...\n",
            "[nltk_data]    |   Unzipping corpora/unicode_samples.zip.\n",
            "[nltk_data]    | Downloading package universal_tagset to\n",
            "[nltk_data]    |     /root/nltk_data...\n",
            "[nltk_data]    |   Unzipping taggers/universal_tagset.zip.\n",
            "[nltk_data]    | Downloading package universal_treebanks_v20 to\n",
            "[nltk_data]    |     /root/nltk_data...\n",
            "[nltk_data]    | Downloading package vader_lexicon to\n",
            "[nltk_data]    |     /root/nltk_data...\n",
            "[nltk_data]    | Downloading package verbnet to /root/nltk_data...\n",
            "[nltk_data]    |   Unzipping corpora/verbnet.zip.\n",
            "[nltk_data]    | Downloading package verbnet3 to /root/nltk_data...\n",
            "[nltk_data]    |   Unzipping corpora/verbnet3.zip.\n",
            "[nltk_data]    | Downloading package webtext to /root/nltk_data...\n",
            "[nltk_data]    |   Unzipping corpora/webtext.zip.\n",
            "[nltk_data]    | Downloading package wmt15_eval to /root/nltk_data...\n",
            "[nltk_data]    |   Unzipping models/wmt15_eval.zip.\n",
            "[nltk_data]    | Downloading package word2vec_sample to\n",
            "[nltk_data]    |     /root/nltk_data...\n",
            "[nltk_data]    |   Unzipping models/word2vec_sample.zip.\n",
            "[nltk_data]    | Downloading package wordnet to /root/nltk_data...\n",
            "[nltk_data]    | Downloading package wordnet2021 to /root/nltk_data...\n",
            "[nltk_data]    | Downloading package wordnet2022 to /root/nltk_data...\n",
            "[nltk_data]    |   Unzipping corpora/wordnet2022.zip.\n",
            "[nltk_data]    | Downloading package wordnet31 to /root/nltk_data...\n",
            "[nltk_data]    | Downloading package wordnet_ic to /root/nltk_data...\n",
            "[nltk_data]    |   Unzipping corpora/wordnet_ic.zip.\n",
            "[nltk_data]    | Downloading package words to /root/nltk_data...\n",
            "[nltk_data]    |   Unzipping corpora/words.zip.\n",
            "[nltk_data]    | Downloading package ycoe to /root/nltk_data...\n",
            "[nltk_data]    |   Unzipping corpora/ycoe.zip.\n",
            "[nltk_data]    | \n",
            "[nltk_data]  Done downloading collection all\n"
          ]
        },
        {
          "output_type": "execute_result",
          "data": {
            "text/plain": [
              "True"
            ]
          },
          "metadata": {},
          "execution_count": 39
        }
      ],
      "source": [
        "import nltk\n",
        "nltk.download('all')"
      ]
    },
    {
      "cell_type": "markdown",
      "source": [
        "##head word2vec"
      ],
      "metadata": {
        "id": "qx67QsBCP43k"
      }
    },
    {
      "cell_type": "code",
      "execution_count": 40,
      "metadata": {
        "collapsed": true,
        "id": "ei5tpC7KP4Ft"
      },
      "outputs": [],
      "source": [
        "import pandas as pd\n",
        "import gensim\n",
        "from gensim.models import Word2Vec\n",
        "from nltk.tokenize import word_tokenize\n",
        "import numpy as np\n",
        "\n",
        "df['head'] = df['head'].astype(str)\n",
        "df['tokens'] = df['head'].apply(word_tokenize)\n",
        "\n",
        "# Word2Vec 모델 학습\n",
        "model = Word2Vec(sentences=df['tokens'], vector_size=50, window=5, min_count=1, workers=4)"
      ]
    },
    {
      "cell_type": "code",
      "execution_count": 41,
      "metadata": {
        "id": "mJhB1tipQBqq"
      },
      "outputs": [],
      "source": [
        "def vectorize_headline(tokens, model):\n",
        "    # 토큰이 모델에 있는 경우에만 벡터 가져오기\n",
        "    vectors = [model.wv[token] for token in tokens if token in model.wv]\n",
        "    if len(vectors) > 0:\n",
        "        # 벡터들의 평균 계산\n",
        "        return np.mean(vectors, axis=0)\n",
        "    else:\n",
        "        return np.zeros(model.vector_size)\n",
        "\n",
        "# 각 헤드라인을 벡터로 변환\n",
        "df['headline_vector'] = df['tokens'].apply(lambda tokens: vectorize_headline(tokens, model))\n",
        "\n",
        "# 벡터를 개별 열로 변환\n",
        "vector_size = model.vector_size\n",
        "vector_columns = [f'vector_{i}' for i in range(vector_size)]\n",
        "vector_df = pd.DataFrame(df['headline_vector'].tolist(), columns=vector_columns)\n",
        "\n",
        "df = pd.concat([df, vector_df], axis=1)"
      ]
    },
    {
      "cell_type": "markdown",
      "source": [
        "## text의 word2vec 진행하기"
      ],
      "metadata": {
        "id": "RXPQee7iQBkZ"
      }
    },
    {
      "cell_type": "code",
      "execution_count": 42,
      "metadata": {
        "id": "6XXG3H-XTvpH"
      },
      "outputs": [],
      "source": [
        "df['Text'] = df['Text'].astype(str)\n",
        "df['tokens'] = df['Text'].apply(word_tokenize)\n",
        "\n",
        "# Word2Vec 모델 학습\n",
        "model = Word2Vec(sentences=df['tokens'], vector_size=100, window=5, min_count=1, workers=4)"
      ]
    },
    {
      "cell_type": "code",
      "execution_count": 43,
      "metadata": {
        "id": "05jfroLBUPHJ"
      },
      "outputs": [],
      "source": [
        "df['headline_vector'] = df['tokens'].apply(lambda tokens: vectorize_headline(tokens, model))\n",
        "\n",
        "# 벡터를 개별 열로 변환\n",
        "vector_size = model.vector_size\n",
        "vector_columns = [f'vector_Text_{i}' for i in range(vector_size)]\n",
        "vector_df = pd.DataFrame(df['headline_vector'].tolist(), columns=vector_columns)\n",
        "\n",
        "# 기존 데이터프레임과 벡터 데이터프레임 결합\n",
        "df = pd.concat([df, vector_df], axis=1)"
      ]
    },
    {
      "cell_type": "markdown",
      "source": [
        "#학습에 사용하지 못하는 컬럼 제거"
      ],
      "metadata": {
        "id": "sc-GRAikSBrm"
      }
    },
    {
      "cell_type": "code",
      "execution_count": 44,
      "metadata": {
        "id": "A39tFgdaUuCD"
      },
      "outputs": [],
      "source": [
        "for col in df.columns:\n",
        "    if df[col].apply(lambda x: isinstance(x, str) or isinstance(x, list)).all():\n",
        "        df.drop(columns=[col], inplace=True)\n"
      ]
    },
    {
      "cell_type": "code",
      "source": [
        "signal_column = df.pop('soxl_Signal')\n",
        "df.insert(0, 'soxl_Signal', signal_column)"
      ],
      "metadata": {
        "id": "Ev6z8Z_EULuC"
      },
      "execution_count": 45,
      "outputs": []
    },
    {
      "cell_type": "markdown",
      "source": [],
      "metadata": {
        "id": "ScDZOs3uURiT"
      }
    },
    {
      "cell_type": "code",
      "source": [
        "df.shape"
      ],
      "metadata": {
        "colab": {
          "base_uri": "https://localhost:8080/"
        },
        "id": "hgRXh1YSRX6B",
        "outputId": "af30b0b4-56c7-48cd-e5ac-eb8bd331cab6"
      },
      "execution_count": 46,
      "outputs": [
        {
          "output_type": "execute_result",
          "data": {
            "text/plain": [
              "(15624, 207)"
            ]
          },
          "metadata": {},
          "execution_count": 46
        }
      ]
    },
    {
      "cell_type": "code",
      "source": [],
      "metadata": {
        "id": "D1m7T1LbT0vW"
      },
      "execution_count": 46,
      "outputs": []
    },
    {
      "cell_type": "code",
      "source": [
        "df = df.dropna()"
      ],
      "metadata": {
        "id": "gFdV8cT0NSll"
      },
      "execution_count": 47,
      "outputs": []
    },
    {
      "cell_type": "code",
      "source": [
        "split_date = pd.to_datetime('2024-01-23')\n",
        "train_data = df[df['Date'] < split_date]\n",
        "test_data = df[df['Date'] >= split_date]"
      ],
      "metadata": {
        "id": "z57OGhU5KVmx"
      },
      "execution_count": 48,
      "outputs": []
    },
    {
      "cell_type": "code",
      "execution_count": 49,
      "metadata": {
        "id": "-8ma0HwNVh-B"
      },
      "outputs": [],
      "source": [
        "train_data = train_data.drop(columns=['headline_vector'])\n",
        "test_data  = test_data .drop(columns=['headline_vector'])\n",
        "train_data = train_data.drop(columns=['Date'])\n",
        "test_data  = test_data .drop(columns=['Date'])"
      ]
    },
    {
      "cell_type": "code",
      "source": [
        "columns_list = train_data.columns[1:].tolist()"
      ],
      "metadata": {
        "id": "91ZwIo81SJYr"
      },
      "execution_count": 50,
      "outputs": []
    },
    {
      "cell_type": "markdown",
      "source": [
        "#학습할 컬럼 지정"
      ],
      "metadata": {
        "id": "kEYxs6vkSiMj"
      }
    },
    {
      "cell_type": "code",
      "source": [],
      "metadata": {
        "id": "w-7MUpV8RU_L"
      },
      "execution_count": 50,
      "outputs": []
    },
    {
      "cell_type": "code",
      "execution_count": 51,
      "metadata": {
        "collapsed": true,
        "id": "7250bVa5NAMe"
      },
      "outputs": [],
      "source": [
        "columns_list = train_data.columns[1:].tolist()"
      ]
    },
    {
      "cell_type": "code",
      "source": [
        "df = df.dropna()"
      ],
      "metadata": {
        "id": "MuJROZKdKzzb"
      },
      "execution_count": 52,
      "outputs": []
    },
    {
      "cell_type": "code",
      "execution_count": 53,
      "metadata": {
        "id": "QIlAL08cVlBr"
      },
      "outputs": [],
      "source": [
        "X = df[columns_list]\n",
        "\n",
        "y = df[['soxl_Signal']].values.ravel()\n",
        "\n",
        "##학습할 컬럼 지정\n",
        "X_train_cat = train_data.loc[:, columns_list]\n",
        "X_test_cat = test_data.loc[:, columns_list]\n"
      ]
    },
    {
      "cell_type": "code",
      "execution_count": 54,
      "metadata": {
        "id": "_voVHdJQbBn4"
      },
      "outputs": [],
      "source": [
        "def custom_accuracy(y_true, y_pred):\n",
        "    # 예측과 실제 값의 차이를 계산\n",
        "    differences = np.abs(y_true - y_pred)\n",
        "\n",
        "    # 3인 경우에는 정확하게 일치해야 함\n",
        "    exact_matches = (y_true == 2) & (y_pred == 2)\n",
        "\n",
        "    # 3이 아닌 경우에는 차이가 1 이하인 경우를 적중으로 간주\n",
        "    near_matches = (y_true != 2) & (differences <= 1)\n",
        "\n",
        "    # 적중한 경우를 결합\n",
        "    accurate_predictions = exact_matches | near_matches\n",
        "\n",
        "    # 적중한 경우의 비율을 계산하여 반환\n",
        "    return np.mean(accurate_predictions)\n",
        "\n",
        "# 커스텀 정확도 계산\n",
        "\n"
      ]
    },
    {
      "cell_type": "code",
      "source": [
        "df=df.dropna()"
      ],
      "metadata": {
        "id": "eRsOjr8kMW12"
      },
      "execution_count": 55,
      "outputs": []
    },
    {
      "cell_type": "code",
      "source": [
        "X_train_cat.shape"
      ],
      "metadata": {
        "id": "F9j5IxnaQFni",
        "colab": {
          "base_uri": "https://localhost:8080/"
        },
        "outputId": "6760f321-5e82-419b-9b5b-b072f1726fa6"
      },
      "execution_count": 56,
      "outputs": [
        {
          "output_type": "execute_result",
          "data": {
            "text/plain": [
              "(6629, 204)"
            ]
          },
          "metadata": {},
          "execution_count": 56
        }
      ]
    },
    {
      "cell_type": "markdown",
      "source": [
        "#모델학습"
      ],
      "metadata": {
        "id": "DBMWUopVVsrY"
      }
    },
    {
      "cell_type": "code",
      "execution_count": 60,
      "metadata": {
        "colab": {
          "base_uri": "https://localhost:8080/"
        },
        "id": "hyEK4QK_WfYZ",
        "outputId": "5a0f4e84-14cc-46ef-9bf6-224fa8f8e6c9"
      },
      "outputs": [
        {
          "output_type": "stream",
          "name": "stdout",
          "text": [
            "Gradient Boosting Mean Cross-Validation Accuracy Score: 0.8688160088938299\n"
          ]
        }
      ],
      "source": [
        "xgb_classifier = xgb.XGBClassifier(seed=41)\n",
        "# train_data와 test_data에서 X와 y를 설정합니다.\n",
        "X_train_cat = train_data[columns_list].astype(float)\n",
        "y_train_cat = train_data['soxl_Signal'].astype(int)\n",
        "\n",
        "X_test_cat = test_data[columns_list].astype(float)\n",
        "y_test_cat = test_data['soxl_Signal'].astype(int)\n",
        "\n",
        "\n",
        "# 8개의 모델을 정의합니다.\n",
        "models = {\n",
        "   # \"Logistic Regression\": LogisticRegression(max_iter=2000, random_state=41),\n",
        "   # \"Random Forest Classifier\": RandomForestClassifier(random_state=41),\n",
        "   # \"KNN\": KNeighborsClassifier(),\n",
        "   # \"Support Vector Classifier\": SVC(random_state=41),\n",
        "   # \"Naive Bayes\": GaussianNB(),\n",
        "    \"Gradient Boosting\": GradientBoostingClassifier(random_state=41),\n",
        "   # \"Decision Tree Classifer\": DecisionTreeClassifier(random_state=41),\n",
        "   # \"Bagging\": BaggingClassifier(random_state=41),\n",
        "   # \"XGBClassifier Classifier\": xgb.XGBClassifier(seed=41)\n",
        "}\n",
        "lst=[]\n",
        "# 각 모델의 정확도를 출력합니다.\n",
        "for name, model in models.items():\n",
        "\n",
        "    model.fit(X_train_cat, y_train_cat)\n",
        "    y_pred = model.predict(X_test_cat)\n",
        "    lst.append(y_pred)\n",
        "    accuracy = np.mean(y_pred == y_test_cat)\n",
        "    # 커스텀 정확도 계산\n",
        "    accuracy = custom_accuracy( y_test_cat,y_pred)\n",
        "    print(\"{} Mean Cross-Validation Accuracy Score: {}\".format(name, accuracy))"
      ]
    },
    {
      "cell_type": "code",
      "source": [
        "%matplotlib inline\n",
        "import matplotlib as mpl  # 기본 설정\n",
        "import matplotlib.pyplot as plt  # 그래프 그리기\n",
        "import matplotlib.font_manager as fm  # 폰트 관리\n",
        "\n",
        "!apt-get update -qq         # apt-get 패키지 설치 명령어, -qq : 에러외 메세지 숨기기\n",
        "!apt-get install fonts-nanum* -qq #나눔글꼴 설치\n",
        "fe = fm.FontEntry(fname=r'/usr/share/fonts/truetype/nanum/NanumGothic.ttf', name='NanumGothic') #파일 저장되어있는 경로와 이름 설정\n",
        "fm.fontManager.ttflist.insert(0, fe)  # Matplotlib에 폰트 추가\n",
        "plt.rcParams.update({'font.size': 10, 'font.family': 'NanumGothic'}) #폰트설정\n",
        "mpl.rcParams['axes.unicode_minus'] = False"
      ],
      "metadata": {
        "colab": {
          "base_uri": "https://localhost:8080/"
        },
        "id": "h20tCK9wbCjs",
        "outputId": "339f5cfc-38e1-42c3-dfd1-675e1ab09b45"
      },
      "execution_count": 69,
      "outputs": [
        {
          "output_type": "stream",
          "name": "stdout",
          "text": [
            "W: Skipping acquire of configured file 'main/source/Sources' as repository 'https://r2u.stat.illinois.edu/ubuntu jammy InRelease' does not seem to provide it (sources.list entry misspelt?)\n",
            "Selecting previously unselected package fonts-nanum.\n",
            "(Reading database ... 123586 files and directories currently installed.)\n",
            "Preparing to unpack .../fonts-nanum_20200506-1_all.deb ...\n",
            "Unpacking fonts-nanum (20200506-1) ...\n",
            "Selecting previously unselected package fonts-nanum-coding.\n",
            "Preparing to unpack .../fonts-nanum-coding_2.5-3_all.deb ...\n",
            "Unpacking fonts-nanum-coding (2.5-3) ...\n",
            "Selecting previously unselected package fonts-nanum-eco.\n",
            "Preparing to unpack .../fonts-nanum-eco_1.000-7_all.deb ...\n",
            "Unpacking fonts-nanum-eco (1.000-7) ...\n",
            "Selecting previously unselected package fonts-nanum-extra.\n",
            "Preparing to unpack .../fonts-nanum-extra_20200506-1_all.deb ...\n",
            "Unpacking fonts-nanum-extra (20200506-1) ...\n",
            "Setting up fonts-nanum-extra (20200506-1) ...\n",
            "Setting up fonts-nanum (20200506-1) ...\n",
            "Setting up fonts-nanum-coding (2.5-3) ...\n",
            "Setting up fonts-nanum-eco (1.000-7) ...\n",
            "Processing triggers for fontconfig (2.13.1-4.2ubuntu5) ...\n"
          ]
        }
      ]
    },
    {
      "cell_type": "code",
      "source": [
        "import matplotlib.pyplot as plt\n",
        "import seaborn as sns\n",
        "import pandas as pd\n",
        "\n",
        "# 모델의 feature importances 가져오기\n",
        "importances = model.feature_importances_\n",
        "\n",
        "# feature names 가져오기 (여기서는 X_train_cat이 pandas DataFrame이라고 가정)\n",
        "feature_names = X_train_cat.columns\n",
        "\n",
        "# feature importances와 feature names를 데이터프레임으로 만들기\n",
        "feature_importances = pd.DataFrame({'Feature': feature_names, 'Importance': importances})\n",
        "\n",
        "# 중요도 순으로 정렬 후 상위 20개 선택\n",
        "top_20_features = feature_importances.sort_values(by='Importance', ascending=False).head(20)\n",
        "\n",
        "# 시각화\n",
        "plt.figure(figsize=(10, 8))\n",
        "sns.barplot(x='Importance', y=[\"댓글의 길이\",\"soxl 거래량\",\"soxl의 시가\",\"일년중 몇번째 주인지\",\"soxl의 저가\",\"몇일인지\",\"제목의 길이\",\"vector_11\",\"vector_12\",\"soxl의 고가\",\"soxl의 종가\",\"soxl의 수정종가\",\"soxl의 종가\",\"몇월인지\",\"하위종목의 거래량\",\"vector_17\",\"vector_30\",\"전일대비 변화량\",\"vector_25\",\"vector_16\"], data=top_20_features, orient='h')\n",
        "plt.title('Top 20 Feature Importances')\n",
        "plt.xlabel('Importance')\n",
        "plt.ylabel('Feature')\n",
        "plt.show()\n"
      ],
      "metadata": {
        "colab": {
          "base_uri": "https://localhost:8080/",
          "height": 715
        },
        "id": "uBJBwAedXPS7",
        "outputId": "cc377a89-f365-4237-cf4d-0d5780220b64"
      },
      "execution_count": 70,
      "outputs": [
        {
          "output_type": "display_data",
          "data": {
            "text/plain": [
              "<Figure size 1000x800 with 1 Axes>"
            ],
            "image/png": "[encoded data removed]"
          },
          "metadata": {}
        }
      ]
    },
    {
      "cell_type": "code",
      "source": [
        "df_to_lst = pd.DataFrame(lst[0])"
      ],
      "metadata": {
        "id": "ZJBmVOodL_zL"
      },
      "execution_count": null,
      "outputs": []
    },
    {
      "cell_type": "code",
      "source": [],
      "metadata": {
        "id": "dd9XMTwNM3s3"
      },
      "execution_count": null,
      "outputs": []
    },
    {
      "cell_type": "code",
      "source": [],
      "metadata": {
        "id": "c3UeLKxVMHRr"
      },
      "execution_count": null,
      "outputs": []
    }
  ],
  "metadata": {
    "colab": {
      "provenance": []
    },
    "kernelspec": {
      "display_name": "Python 3",
      "name": "python3"
    },
    "language_info": {
      "name": "python"
    }
  },
  "nbformat": 4,
  "nbformat_minor": 0
}